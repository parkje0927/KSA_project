{
  "nbformat": 4,
  "nbformat_minor": 0,
  "metadata": {
    "colab": {
      "name": "ksa_module10_GAN",
      "provenance": [],
      "collapsed_sections": []
    },
    "kernelspec": {
      "display_name": "Python 3",
      "name": "python3"
    },
    "language_info": {
      "name": "python"
    }
  },
  "cells": [
    {
      "cell_type": "code",
      "metadata": {
        "colab": {
          "base_uri": "https://localhost:8080/"
        },
        "id": "jGb41eJyTjDd",
        "outputId": "0e72d146-44ec-4478-bb24-61b5ecbf0bec"
      },
      "source": [
        "# (1) import\n",
        "import torch\n",
        "from torch import nn\n",
        "from tqdm.auto import tqdm\n",
        "from torchvision import transforms\n",
        "from torchvision.datasets import MNIST  # Training dataset\n",
        "from torchvision.utils import make_grid\n",
        "from torch.utils.data import DataLoader\n",
        "import matplotlib.pyplot as plt\n",
        "\n",
        "torch.manual_seed(0)  # set fro testing purposes, please do not change"
      ],
      "execution_count": null,
      "outputs": [
        {
          "output_type": "execute_result",
          "data": {
            "text/plain": [
              "<torch._C.Generator at 0x7f07ebb3e8f0>"
            ]
          },
          "metadata": {
            "tags": []
          },
          "execution_count": 14
        }
      ]
    },
    {
      "cell_type": "code",
      "metadata": {
        "id": "HhOX7lBXTvRW"
      },
      "source": [
        "# (2) Generator\n",
        "# (2-1) generator block\n",
        "def gen_block(input_dim, output_dim):\n",
        "    return nn.Sequential(\n",
        "        nn.Linear(input_dim, output_dim),\n",
        "        nn.BatchNorm1d(output_dim),\n",
        "        nn.ReLU(inplace=True)\n",
        "    )"
      ],
      "execution_count": null,
      "outputs": []
    },
    {
      "cell_type": "code",
      "metadata": {
        "id": "-5_B7LtRTxGC"
      },
      "source": [
        "class Generator(nn.Module):\n",
        "    def __init__(self, z_dim=10, im_dim=784, hidden_dim=128):\n",
        "        super(Generator, self).__init__()\n",
        "        self.gen = nn.Sequential(\n",
        "            gen_block(z_dim, hidden_dim),\n",
        "            gen_block(hidden_dim, hidden_dim * 2),\n",
        "            gen_block(hidden_dim * 2, hidden_dim * 4),\n",
        "            gen_block(hidden_dim * 4, hidden_dim * 8),\n",
        "\n",
        "            nn.Linear(hidden_dim * 8, im_dim),\n",
        "            nn.Sigmoid()\n",
        "        )\n",
        "\n",
        "    def forward(self, noise):\n",
        "        return self.gen(noise)\n",
        "\n",
        "    def get_gen(self):\n",
        "        return self.gen"
      ],
      "execution_count": null,
      "outputs": []
    },
    {
      "cell_type": "code",
      "metadata": {
        "id": "i53A1aCITzyI"
      },
      "source": [
        "def dis_block(input_dim, output_dim):\n",
        "    return nn.Sequential(\n",
        "        nn.Linear(input_dim, output_dim),\n",
        "        nn.LeakyReLU(0.2, inplace=True)\n",
        "    )"
      ],
      "execution_count": null,
      "outputs": []
    },
    {
      "cell_type": "code",
      "metadata": {
        "id": "a8EpJq7FT1aq"
      },
      "source": [
        "# (3) Discriminator\n",
        "class Discriminator(nn.Module):\n",
        "    def __init__(self, im_dim=784, hidden_dim=128):\n",
        "        super(Discriminator, self).__init__()\n",
        "        self.disc = nn.Sequential(\n",
        "            dis_block(im_dim, hidden_dim * 4),\n",
        "            dis_block(hidden_dim * 4, hidden_dim * 2),\n",
        "            dis_block(hidden_dim * 2, hidden_dim),\n",
        "            nn.Linear(hidden_dim, 1)\n",
        "        )\n",
        "\n",
        "    def forward(self, image):\n",
        "        return self.disc(image)\n",
        "\n",
        "    def get_disc(self):\n",
        "        return self.disc"
      ],
      "execution_count": null,
      "outputs": []
    },
    {
      "cell_type": "code",
      "metadata": {
        "id": "hmdaIwDVT3S0"
      },
      "source": [
        "# (4) 기타\n",
        "# (4-1) 노이즈 함수\n",
        "def get_noise(n_samples, z_dim, device='cpu'):\n",
        "    return torch.randn(n_samples, z_dim, device=device)"
      ],
      "execution_count": null,
      "outputs": []
    },
    {
      "cell_type": "code",
      "metadata": {
        "id": "hLWtAs3dT4yT"
      },
      "source": [
        "# (4-2) 파라미터 셋업\n",
        "criterion = nn.BCEWithLogitsLoss()\n",
        "n_epochs = 100\n",
        "z_dim = 64\n",
        "display_step = 500\n",
        "batch_size = 128\n",
        "lr = 0.00001\n",
        "device = 'cpu'\n",
        "# 원래는 cuda 인데 이를 cpu로 변경함 "
      ],
      "execution_count": null,
      "outputs": []
    },
    {
      "cell_type": "code",
      "metadata": {
        "id": "WG7xvYGmT6KA"
      },
      "source": [
        "# (4-3) 데이터 로딩\n",
        "dataloader = DataLoader(\n",
        "    MNIST('.', download=True, transform=transforms.ToTensor()),  # 한 번 실행 이후에는 download=False 로 변경 가능\n",
        "    batch_size=batch_size,\n",
        "    shuffle=True\n",
        ")"
      ],
      "execution_count": null,
      "outputs": []
    },
    {
      "cell_type": "code",
      "metadata": {
        "id": "k0-FicooT7lN"
      },
      "source": [
        "# (5) loss 함수\n",
        "# (5-1) optimizer\n",
        "gen = Generator(z_dim).to(device)\n",
        "gen_opt = torch.optim.Adam(gen.parameters(), lr=lr)\n",
        "disc = Discriminator().to(device)\n",
        "disc_opt = torch.optim.Adam(disc.parameters(), lr=lr)"
      ],
      "execution_count": null,
      "outputs": []
    },
    {
      "cell_type": "code",
      "metadata": {
        "id": "qw_DYD5xT9Ja"
      },
      "source": [
        "# (5-2) disc loss\n",
        "def get_disc_loss(gen, disc, criterion, real, num_images, z_dim, device):\n",
        "    fake_noise = get_noise(num_images, z_dim, device=device)    # z\n",
        "    fake = gen(fake_noise)                                      # G(z)\n",
        "    disc_fake_pred = disc(fake.detach())                        # D(G(z))\n",
        "    # compare fake_pred & zeros\n",
        "    disc_fake_loss = criterion(disc_fake_pred, torch.zeros_like(disc_fake_pred))\n",
        "    disc_real_pred = disc(real)                                 # D(x)\n",
        "    # compare real_pred & ones\n",
        "    disc_real_loss = criterion(disc_real_pred, torch.ones_like(disc_real_pred))\n",
        "    disc_loss = (disc_fake_loss + disc_real_loss) / 2\n",
        "\n",
        "    return disc_loss"
      ],
      "execution_count": null,
      "outputs": []
    },
    {
      "cell_type": "code",
      "metadata": {
        "id": "p68mlzDvT-0j"
      },
      "source": [
        "# (5-3) gen loss\n",
        "def get_gen_loss(gen, disc, criterion, num_images, z_dim, device):\n",
        "    fake_noise = get_noise(num_images, z_dim, device=device)\n",
        "    fake = gen(fake_noise)\n",
        "    # disc_fake_pred = disc(fake.detach())\n",
        "    disc_fake_pred = disc(fake)\n",
        "    \n",
        "    # compare fake_pred & ones\n",
        "    gen_loss = criterion(disc_fake_pred, torch.ones_like(disc_fake_pred))\n",
        "\n",
        "    return gen_loss"
      ],
      "execution_count": null,
      "outputs": []
    },
    {
      "cell_type": "code",
      "metadata": {
        "id": "pyUQFC0_UAed"
      },
      "source": [
        "# (6) image display\n",
        "def show_tensor_images(image_tensor, num_images=25, size=(1, 28, 28)):\n",
        "  image_unflat = image_tensor.detach().cpu().view(-1, *size)\n",
        "  image_grid = make_grid(image_unflat[:num_images], nrow=5)\n",
        "  plt.imshow(image_grid.permute(1, 2, 0).squeeze())\n",
        "  plt.show()"
      ],
      "execution_count": null,
      "outputs": []
    },
    {
      "cell_type": "code",
      "metadata": {
        "colab": {
          "base_uri": "https://localhost:8080/",
          "height": 51,
          "referenced_widgets": [
            "0eaa4c3409714c809e430f6007240ee1"
          ]
        },
        "id": "MJtZVBYzYu2O",
        "outputId": "fe967c66-f992-4561-d22a-bdf721c6badc"
      },
      "source": [
        "# (7) training\n",
        "cur_step = 0\n",
        "mean_generator_loss = 0\n",
        "mean_discriminator_loss = 0\n",
        "test_generator = True\n",
        "gen_loss = False\n",
        "error = False\n",
        "\n",
        "# image_tensor : the images to show\n",
        "\n",
        "for epoch in range(n_epochs):\n",
        "  for real, _ in tqdm(dataloader):\n",
        "    cur_batch_size = len(real)\n",
        "    real = real.view(cur_batch_size, -1).to(device)\n",
        "\n",
        "    # update discriminator\n",
        "    disc_opt.zero_grad()\n",
        "    disc_loss = get_disc_loss(gen, disc, criterion, real, cur_batch_size, z_dim, device)\n",
        "    disc_loss.backward(retain_graph=True)\n",
        "    disc_opt.step()\n",
        "\n",
        "    # if test_generator:\n",
        "    #   old_generator_weights = gen.gen[0][0].weight.detach().clone()\n",
        "\n",
        "    # update generator    \n",
        "    gen_opt.zero_grad()\n",
        "    gen_loss = get_gen_loss(gen, disc, criterion, cur_batch_size, z_dim, device)\n",
        "    gen_loss.backward()\n",
        "    gen_opt.step()\n",
        "\n",
        "    # if test_generator:\n",
        "    #   try:\n",
        "    #     assert lr > 0.0000002 or (gen.gen[0][0].weight.grad.abs().max() < 0.0005 and epoch == 0)\n",
        "    #     assert torch.any(gen[0][0].weight.detach().clone() != old_generator_weights)\n",
        "\n",
        "    #   except:\n",
        "    #     error = True\n",
        "    #     print(\"Runtime tests have failed.\")\n",
        "      \n",
        "    mean_discriminator_loss += disc_loss.item() / display_step\n",
        "    mean_generator_loss += gen_loss.item() / display_step\n",
        "\n",
        "    if cur_step % display_step == 0 and cur_step > 0:\n",
        "      print(f\"step: {cur_step}, Generator loss: {mean_generator_loss}, discriminator loss: {mean_discriminator_loss}\")\n",
        "      fake_noise = get_noise(cur_batch_size, z_dim, device=device)\n",
        "      fake = gen(fake_noise)\n",
        "      show_tensor_images(fake)\n",
        "      show_tensor_images(real)\n",
        "      mean_generator_loss = 0\n",
        "      mean_discriminator_loss = 0\n",
        "    cur_step += 1\n",
        "\n"
      ],
      "execution_count": null,
      "outputs": [
        {
          "output_type": "stream",
          "text": [
            "\n"
          ],
          "name": "stdout"
        },
        {
          "output_type": "display_data",
          "data": {
            "application/vnd.jupyter.widget-view+json": {
              "model_id": "0eaa4c3409714c809e430f6007240ee1",
              "version_minor": 0,
              "version_major": 2
            },
            "text/plain": [
              "HBox(children=(FloatProgress(value=0.0, max=469.0), HTML(value='')))"
            ]
          },
          "metadata": {
            "tags": []
          }
        }
      ]
    },
    {
      "cell_type": "code",
      "metadata": {
        "id": "8Fk-InTbSI3Q"
      },
      "source": [
        ""
      ],
      "execution_count": null,
      "outputs": []
    }
  ]
}