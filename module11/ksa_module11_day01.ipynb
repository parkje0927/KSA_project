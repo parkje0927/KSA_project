{
  "nbformat": 4,
  "nbformat_minor": 0,
  "metadata": {
    "colab": {
      "name": "ksa_module11_day01",
      "provenance": [],
      "collapsed_sections": []
    },
    "kernelspec": {
      "name": "python3",
      "display_name": "Python 3"
    },
    "language_info": {
      "name": "python"
    },
    "widgets": {
      "application/vnd.jupyter.widget-state+json": {
        "69de400b43354f76a95ff989d77138b0": {
          "model_module": "@jupyter-widgets/controls",
          "model_name": "HBoxModel",
          "state": {
            "_view_name": "HBoxView",
            "_dom_classes": [],
            "_model_name": "HBoxModel",
            "_view_module": "@jupyter-widgets/controls",
            "_model_module_version": "1.5.0",
            "_view_count": null,
            "_view_module_version": "1.5.0",
            "box_style": "",
            "layout": "IPY_MODEL_ff975fbea1f940c1a0abb51d0eefe87a",
            "_model_module": "@jupyter-widgets/controls",
            "children": [
              "IPY_MODEL_ca4c4ab95b6243e896195aa3aea5e39f",
              "IPY_MODEL_8a9d97089d8d40818196c10a130eb320"
            ]
          }
        },
        "ff975fbea1f940c1a0abb51d0eefe87a": {
          "model_module": "@jupyter-widgets/base",
          "model_name": "LayoutModel",
          "state": {
            "_view_name": "LayoutView",
            "grid_template_rows": null,
            "right": null,
            "justify_content": null,
            "_view_module": "@jupyter-widgets/base",
            "overflow": null,
            "_model_module_version": "1.2.0",
            "_view_count": null,
            "flex_flow": null,
            "width": null,
            "min_width": null,
            "border": null,
            "align_items": null,
            "bottom": null,
            "_model_module": "@jupyter-widgets/base",
            "top": null,
            "grid_column": null,
            "overflow_y": null,
            "overflow_x": null,
            "grid_auto_flow": null,
            "grid_area": null,
            "grid_template_columns": null,
            "flex": null,
            "_model_name": "LayoutModel",
            "justify_items": null,
            "grid_row": null,
            "max_height": null,
            "align_content": null,
            "visibility": null,
            "align_self": null,
            "height": null,
            "min_height": null,
            "padding": null,
            "grid_auto_rows": null,
            "grid_gap": null,
            "max_width": null,
            "order": null,
            "_view_module_version": "1.2.0",
            "grid_template_areas": null,
            "object_position": null,
            "object_fit": null,
            "grid_auto_columns": null,
            "margin": null,
            "display": null,
            "left": null
          }
        },
        "ca4c4ab95b6243e896195aa3aea5e39f": {
          "model_module": "@jupyter-widgets/controls",
          "model_name": "FloatProgressModel",
          "state": {
            "_view_name": "ProgressView",
            "style": "IPY_MODEL_ccc66c14b69c4aac9da66b47860add9f",
            "_dom_classes": [],
            "description": "",
            "_model_name": "FloatProgressModel",
            "bar_style": "success",
            "max": 9912422,
            "_view_module": "@jupyter-widgets/controls",
            "_model_module_version": "1.5.0",
            "value": 9912422,
            "_view_count": null,
            "_view_module_version": "1.5.0",
            "orientation": "horizontal",
            "min": 0,
            "description_tooltip": null,
            "_model_module": "@jupyter-widgets/controls",
            "layout": "IPY_MODEL_3b4378543f65497caac20221ad3a6041"
          }
        },
        "8a9d97089d8d40818196c10a130eb320": {
          "model_module": "@jupyter-widgets/controls",
          "model_name": "HTMLModel",
          "state": {
            "_view_name": "HTMLView",
            "style": "IPY_MODEL_cd1772bba38d45ebb26cf8000aab80d1",
            "_dom_classes": [],
            "description": "",
            "_model_name": "HTMLModel",
            "placeholder": "​",
            "_view_module": "@jupyter-widgets/controls",
            "_model_module_version": "1.5.0",
            "value": " 9913344/? [04:51&lt;00:00, 34062.01it/s]",
            "_view_count": null,
            "_view_module_version": "1.5.0",
            "description_tooltip": null,
            "_model_module": "@jupyter-widgets/controls",
            "layout": "IPY_MODEL_4059e5284cde4c5689fbd43f984e76dc"
          }
        },
        "ccc66c14b69c4aac9da66b47860add9f": {
          "model_module": "@jupyter-widgets/controls",
          "model_name": "ProgressStyleModel",
          "state": {
            "_view_name": "StyleView",
            "_model_name": "ProgressStyleModel",
            "description_width": "initial",
            "_view_module": "@jupyter-widgets/base",
            "_model_module_version": "1.5.0",
            "_view_count": null,
            "_view_module_version": "1.2.0",
            "bar_color": null,
            "_model_module": "@jupyter-widgets/controls"
          }
        },
        "3b4378543f65497caac20221ad3a6041": {
          "model_module": "@jupyter-widgets/base",
          "model_name": "LayoutModel",
          "state": {
            "_view_name": "LayoutView",
            "grid_template_rows": null,
            "right": null,
            "justify_content": null,
            "_view_module": "@jupyter-widgets/base",
            "overflow": null,
            "_model_module_version": "1.2.0",
            "_view_count": null,
            "flex_flow": null,
            "width": null,
            "min_width": null,
            "border": null,
            "align_items": null,
            "bottom": null,
            "_model_module": "@jupyter-widgets/base",
            "top": null,
            "grid_column": null,
            "overflow_y": null,
            "overflow_x": null,
            "grid_auto_flow": null,
            "grid_area": null,
            "grid_template_columns": null,
            "flex": null,
            "_model_name": "LayoutModel",
            "justify_items": null,
            "grid_row": null,
            "max_height": null,
            "align_content": null,
            "visibility": null,
            "align_self": null,
            "height": null,
            "min_height": null,
            "padding": null,
            "grid_auto_rows": null,
            "grid_gap": null,
            "max_width": null,
            "order": null,
            "_view_module_version": "1.2.0",
            "grid_template_areas": null,
            "object_position": null,
            "object_fit": null,
            "grid_auto_columns": null,
            "margin": null,
            "display": null,
            "left": null
          }
        },
        "cd1772bba38d45ebb26cf8000aab80d1": {
          "model_module": "@jupyter-widgets/controls",
          "model_name": "DescriptionStyleModel",
          "state": {
            "_view_name": "StyleView",
            "_model_name": "DescriptionStyleModel",
            "description_width": "",
            "_view_module": "@jupyter-widgets/base",
            "_model_module_version": "1.5.0",
            "_view_count": null,
            "_view_module_version": "1.2.0",
            "_model_module": "@jupyter-widgets/controls"
          }
        },
        "4059e5284cde4c5689fbd43f984e76dc": {
          "model_module": "@jupyter-widgets/base",
          "model_name": "LayoutModel",
          "state": {
            "_view_name": "LayoutView",
            "grid_template_rows": null,
            "right": null,
            "justify_content": null,
            "_view_module": "@jupyter-widgets/base",
            "overflow": null,
            "_model_module_version": "1.2.0",
            "_view_count": null,
            "flex_flow": null,
            "width": null,
            "min_width": null,
            "border": null,
            "align_items": null,
            "bottom": null,
            "_model_module": "@jupyter-widgets/base",
            "top": null,
            "grid_column": null,
            "overflow_y": null,
            "overflow_x": null,
            "grid_auto_flow": null,
            "grid_area": null,
            "grid_template_columns": null,
            "flex": null,
            "_model_name": "LayoutModel",
            "justify_items": null,
            "grid_row": null,
            "max_height": null,
            "align_content": null,
            "visibility": null,
            "align_self": null,
            "height": null,
            "min_height": null,
            "padding": null,
            "grid_auto_rows": null,
            "grid_gap": null,
            "max_width": null,
            "order": null,
            "_view_module_version": "1.2.0",
            "grid_template_areas": null,
            "object_position": null,
            "object_fit": null,
            "grid_auto_columns": null,
            "margin": null,
            "display": null,
            "left": null
          }
        },
        "d332715f3f944740abb6d72c98ec1cd8": {
          "model_module": "@jupyter-widgets/controls",
          "model_name": "HBoxModel",
          "state": {
            "_view_name": "HBoxView",
            "_dom_classes": [],
            "_model_name": "HBoxModel",
            "_view_module": "@jupyter-widgets/controls",
            "_model_module_version": "1.5.0",
            "_view_count": null,
            "_view_module_version": "1.5.0",
            "box_style": "",
            "layout": "IPY_MODEL_92ca710eb453444db1fe2a1703de67ef",
            "_model_module": "@jupyter-widgets/controls",
            "children": [
              "IPY_MODEL_c36fca1741824d2aaa00d459476a3690",
              "IPY_MODEL_50ca76321051480ea053e322c36a555e"
            ]
          }
        },
        "92ca710eb453444db1fe2a1703de67ef": {
          "model_module": "@jupyter-widgets/base",
          "model_name": "LayoutModel",
          "state": {
            "_view_name": "LayoutView",
            "grid_template_rows": null,
            "right": null,
            "justify_content": null,
            "_view_module": "@jupyter-widgets/base",
            "overflow": null,
            "_model_module_version": "1.2.0",
            "_view_count": null,
            "flex_flow": null,
            "width": null,
            "min_width": null,
            "border": null,
            "align_items": null,
            "bottom": null,
            "_model_module": "@jupyter-widgets/base",
            "top": null,
            "grid_column": null,
            "overflow_y": null,
            "overflow_x": null,
            "grid_auto_flow": null,
            "grid_area": null,
            "grid_template_columns": null,
            "flex": null,
            "_model_name": "LayoutModel",
            "justify_items": null,
            "grid_row": null,
            "max_height": null,
            "align_content": null,
            "visibility": null,
            "align_self": null,
            "height": null,
            "min_height": null,
            "padding": null,
            "grid_auto_rows": null,
            "grid_gap": null,
            "max_width": null,
            "order": null,
            "_view_module_version": "1.2.0",
            "grid_template_areas": null,
            "object_position": null,
            "object_fit": null,
            "grid_auto_columns": null,
            "margin": null,
            "display": null,
            "left": null
          }
        },
        "c36fca1741824d2aaa00d459476a3690": {
          "model_module": "@jupyter-widgets/controls",
          "model_name": "FloatProgressModel",
          "state": {
            "_view_name": "ProgressView",
            "style": "IPY_MODEL_d7cfc0b29acd42049635cd6231602d47",
            "_dom_classes": [],
            "description": "",
            "_model_name": "FloatProgressModel",
            "bar_style": "success",
            "max": 28881,
            "_view_module": "@jupyter-widgets/controls",
            "_model_module_version": "1.5.0",
            "value": 28881,
            "_view_count": null,
            "_view_module_version": "1.5.0",
            "orientation": "horizontal",
            "min": 0,
            "description_tooltip": null,
            "_model_module": "@jupyter-widgets/controls",
            "layout": "IPY_MODEL_c921d68ee73943c98c144b769b1ea286"
          }
        },
        "50ca76321051480ea053e322c36a555e": {
          "model_module": "@jupyter-widgets/controls",
          "model_name": "HTMLModel",
          "state": {
            "_view_name": "HTMLView",
            "style": "IPY_MODEL_657b236f6b314a249b8e06a3e654b65c",
            "_dom_classes": [],
            "description": "",
            "_model_name": "HTMLModel",
            "placeholder": "​",
            "_view_module": "@jupyter-widgets/controls",
            "_model_module_version": "1.5.0",
            "value": " 29696/? [00:01&lt;00:00, 27912.09it/s]",
            "_view_count": null,
            "_view_module_version": "1.5.0",
            "description_tooltip": null,
            "_model_module": "@jupyter-widgets/controls",
            "layout": "IPY_MODEL_a8303346650442c1b1b441e2bd97964b"
          }
        },
        "d7cfc0b29acd42049635cd6231602d47": {
          "model_module": "@jupyter-widgets/controls",
          "model_name": "ProgressStyleModel",
          "state": {
            "_view_name": "StyleView",
            "_model_name": "ProgressStyleModel",
            "description_width": "initial",
            "_view_module": "@jupyter-widgets/base",
            "_model_module_version": "1.5.0",
            "_view_count": null,
            "_view_module_version": "1.2.0",
            "bar_color": null,
            "_model_module": "@jupyter-widgets/controls"
          }
        },
        "c921d68ee73943c98c144b769b1ea286": {
          "model_module": "@jupyter-widgets/base",
          "model_name": "LayoutModel",
          "state": {
            "_view_name": "LayoutView",
            "grid_template_rows": null,
            "right": null,
            "justify_content": null,
            "_view_module": "@jupyter-widgets/base",
            "overflow": null,
            "_model_module_version": "1.2.0",
            "_view_count": null,
            "flex_flow": null,
            "width": null,
            "min_width": null,
            "border": null,
            "align_items": null,
            "bottom": null,
            "_model_module": "@jupyter-widgets/base",
            "top": null,
            "grid_column": null,
            "overflow_y": null,
            "overflow_x": null,
            "grid_auto_flow": null,
            "grid_area": null,
            "grid_template_columns": null,
            "flex": null,
            "_model_name": "LayoutModel",
            "justify_items": null,
            "grid_row": null,
            "max_height": null,
            "align_content": null,
            "visibility": null,
            "align_self": null,
            "height": null,
            "min_height": null,
            "padding": null,
            "grid_auto_rows": null,
            "grid_gap": null,
            "max_width": null,
            "order": null,
            "_view_module_version": "1.2.0",
            "grid_template_areas": null,
            "object_position": null,
            "object_fit": null,
            "grid_auto_columns": null,
            "margin": null,
            "display": null,
            "left": null
          }
        },
        "657b236f6b314a249b8e06a3e654b65c": {
          "model_module": "@jupyter-widgets/controls",
          "model_name": "DescriptionStyleModel",
          "state": {
            "_view_name": "StyleView",
            "_model_name": "DescriptionStyleModel",
            "description_width": "",
            "_view_module": "@jupyter-widgets/base",
            "_model_module_version": "1.5.0",
            "_view_count": null,
            "_view_module_version": "1.2.0",
            "_model_module": "@jupyter-widgets/controls"
          }
        },
        "a8303346650442c1b1b441e2bd97964b": {
          "model_module": "@jupyter-widgets/base",
          "model_name": "LayoutModel",
          "state": {
            "_view_name": "LayoutView",
            "grid_template_rows": null,
            "right": null,
            "justify_content": null,
            "_view_module": "@jupyter-widgets/base",
            "overflow": null,
            "_model_module_version": "1.2.0",
            "_view_count": null,
            "flex_flow": null,
            "width": null,
            "min_width": null,
            "border": null,
            "align_items": null,
            "bottom": null,
            "_model_module": "@jupyter-widgets/base",
            "top": null,
            "grid_column": null,
            "overflow_y": null,
            "overflow_x": null,
            "grid_auto_flow": null,
            "grid_area": null,
            "grid_template_columns": null,
            "flex": null,
            "_model_name": "LayoutModel",
            "justify_items": null,
            "grid_row": null,
            "max_height": null,
            "align_content": null,
            "visibility": null,
            "align_self": null,
            "height": null,
            "min_height": null,
            "padding": null,
            "grid_auto_rows": null,
            "grid_gap": null,
            "max_width": null,
            "order": null,
            "_view_module_version": "1.2.0",
            "grid_template_areas": null,
            "object_position": null,
            "object_fit": null,
            "grid_auto_columns": null,
            "margin": null,
            "display": null,
            "left": null
          }
        },
        "ea8054be6168438bae6a5b5ce024e5a2": {
          "model_module": "@jupyter-widgets/controls",
          "model_name": "HBoxModel",
          "state": {
            "_view_name": "HBoxView",
            "_dom_classes": [],
            "_model_name": "HBoxModel",
            "_view_module": "@jupyter-widgets/controls",
            "_model_module_version": "1.5.0",
            "_view_count": null,
            "_view_module_version": "1.5.0",
            "box_style": "",
            "layout": "IPY_MODEL_c105aafe7daa49e0b065456dfc69391c",
            "_model_module": "@jupyter-widgets/controls",
            "children": [
              "IPY_MODEL_bad3490ca96248e39e4129ea366e046c",
              "IPY_MODEL_199a4b2232e94dd08b23acc63eba46d9"
            ]
          }
        },
        "c105aafe7daa49e0b065456dfc69391c": {
          "model_module": "@jupyter-widgets/base",
          "model_name": "LayoutModel",
          "state": {
            "_view_name": "LayoutView",
            "grid_template_rows": null,
            "right": null,
            "justify_content": null,
            "_view_module": "@jupyter-widgets/base",
            "overflow": null,
            "_model_module_version": "1.2.0",
            "_view_count": null,
            "flex_flow": null,
            "width": null,
            "min_width": null,
            "border": null,
            "align_items": null,
            "bottom": null,
            "_model_module": "@jupyter-widgets/base",
            "top": null,
            "grid_column": null,
            "overflow_y": null,
            "overflow_x": null,
            "grid_auto_flow": null,
            "grid_area": null,
            "grid_template_columns": null,
            "flex": null,
            "_model_name": "LayoutModel",
            "justify_items": null,
            "grid_row": null,
            "max_height": null,
            "align_content": null,
            "visibility": null,
            "align_self": null,
            "height": null,
            "min_height": null,
            "padding": null,
            "grid_auto_rows": null,
            "grid_gap": null,
            "max_width": null,
            "order": null,
            "_view_module_version": "1.2.0",
            "grid_template_areas": null,
            "object_position": null,
            "object_fit": null,
            "grid_auto_columns": null,
            "margin": null,
            "display": null,
            "left": null
          }
        },
        "bad3490ca96248e39e4129ea366e046c": {
          "model_module": "@jupyter-widgets/controls",
          "model_name": "FloatProgressModel",
          "state": {
            "_view_name": "ProgressView",
            "style": "IPY_MODEL_96d65e6fa4404b2d8f66024e29074344",
            "_dom_classes": [],
            "description": "",
            "_model_name": "FloatProgressModel",
            "bar_style": "success",
            "max": 1648877,
            "_view_module": "@jupyter-widgets/controls",
            "_model_module_version": "1.5.0",
            "value": 1648877,
            "_view_count": null,
            "_view_module_version": "1.5.0",
            "orientation": "horizontal",
            "min": 0,
            "description_tooltip": null,
            "_model_module": "@jupyter-widgets/controls",
            "layout": "IPY_MODEL_19861a7e18a647e9a13e9f7d1c1a2bb5"
          }
        },
        "199a4b2232e94dd08b23acc63eba46d9": {
          "model_module": "@jupyter-widgets/controls",
          "model_name": "HTMLModel",
          "state": {
            "_view_name": "HTMLView",
            "style": "IPY_MODEL_d83318c93b7742f384274e332a5755dc",
            "_dom_classes": [],
            "description": "",
            "_model_name": "HTMLModel",
            "placeholder": "​",
            "_view_module": "@jupyter-widgets/controls",
            "_model_module_version": "1.5.0",
            "value": " 1649664/? [00:00&lt;00:00, 2879984.81it/s]",
            "_view_count": null,
            "_view_module_version": "1.5.0",
            "description_tooltip": null,
            "_model_module": "@jupyter-widgets/controls",
            "layout": "IPY_MODEL_6a4a3ccb538246c3bc031ebf71831924"
          }
        },
        "96d65e6fa4404b2d8f66024e29074344": {
          "model_module": "@jupyter-widgets/controls",
          "model_name": "ProgressStyleModel",
          "state": {
            "_view_name": "StyleView",
            "_model_name": "ProgressStyleModel",
            "description_width": "initial",
            "_view_module": "@jupyter-widgets/base",
            "_model_module_version": "1.5.0",
            "_view_count": null,
            "_view_module_version": "1.2.0",
            "bar_color": null,
            "_model_module": "@jupyter-widgets/controls"
          }
        },
        "19861a7e18a647e9a13e9f7d1c1a2bb5": {
          "model_module": "@jupyter-widgets/base",
          "model_name": "LayoutModel",
          "state": {
            "_view_name": "LayoutView",
            "grid_template_rows": null,
            "right": null,
            "justify_content": null,
            "_view_module": "@jupyter-widgets/base",
            "overflow": null,
            "_model_module_version": "1.2.0",
            "_view_count": null,
            "flex_flow": null,
            "width": null,
            "min_width": null,
            "border": null,
            "align_items": null,
            "bottom": null,
            "_model_module": "@jupyter-widgets/base",
            "top": null,
            "grid_column": null,
            "overflow_y": null,
            "overflow_x": null,
            "grid_auto_flow": null,
            "grid_area": null,
            "grid_template_columns": null,
            "flex": null,
            "_model_name": "LayoutModel",
            "justify_items": null,
            "grid_row": null,
            "max_height": null,
            "align_content": null,
            "visibility": null,
            "align_self": null,
            "height": null,
            "min_height": null,
            "padding": null,
            "grid_auto_rows": null,
            "grid_gap": null,
            "max_width": null,
            "order": null,
            "_view_module_version": "1.2.0",
            "grid_template_areas": null,
            "object_position": null,
            "object_fit": null,
            "grid_auto_columns": null,
            "margin": null,
            "display": null,
            "left": null
          }
        },
        "d83318c93b7742f384274e332a5755dc": {
          "model_module": "@jupyter-widgets/controls",
          "model_name": "DescriptionStyleModel",
          "state": {
            "_view_name": "StyleView",
            "_model_name": "DescriptionStyleModel",
            "description_width": "",
            "_view_module": "@jupyter-widgets/base",
            "_model_module_version": "1.5.0",
            "_view_count": null,
            "_view_module_version": "1.2.0",
            "_model_module": "@jupyter-widgets/controls"
          }
        },
        "6a4a3ccb538246c3bc031ebf71831924": {
          "model_module": "@jupyter-widgets/base",
          "model_name": "LayoutModel",
          "state": {
            "_view_name": "LayoutView",
            "grid_template_rows": null,
            "right": null,
            "justify_content": null,
            "_view_module": "@jupyter-widgets/base",
            "overflow": null,
            "_model_module_version": "1.2.0",
            "_view_count": null,
            "flex_flow": null,
            "width": null,
            "min_width": null,
            "border": null,
            "align_items": null,
            "bottom": null,
            "_model_module": "@jupyter-widgets/base",
            "top": null,
            "grid_column": null,
            "overflow_y": null,
            "overflow_x": null,
            "grid_auto_flow": null,
            "grid_area": null,
            "grid_template_columns": null,
            "flex": null,
            "_model_name": "LayoutModel",
            "justify_items": null,
            "grid_row": null,
            "max_height": null,
            "align_content": null,
            "visibility": null,
            "align_self": null,
            "height": null,
            "min_height": null,
            "padding": null,
            "grid_auto_rows": null,
            "grid_gap": null,
            "max_width": null,
            "order": null,
            "_view_module_version": "1.2.0",
            "grid_template_areas": null,
            "object_position": null,
            "object_fit": null,
            "grid_auto_columns": null,
            "margin": null,
            "display": null,
            "left": null
          }
        },
        "eae439706404447e8c65a52a5445ae12": {
          "model_module": "@jupyter-widgets/controls",
          "model_name": "HBoxModel",
          "state": {
            "_view_name": "HBoxView",
            "_dom_classes": [],
            "_model_name": "HBoxModel",
            "_view_module": "@jupyter-widgets/controls",
            "_model_module_version": "1.5.0",
            "_view_count": null,
            "_view_module_version": "1.5.0",
            "box_style": "",
            "layout": "IPY_MODEL_2b56a3f35eff4cf79307b2def0a3e66d",
            "_model_module": "@jupyter-widgets/controls",
            "children": [
              "IPY_MODEL_adcd9f219f5b463eac5c5dab4f67bc15",
              "IPY_MODEL_4b80b6dee31e4737b514b2f447237de1"
            ]
          }
        },
        "2b56a3f35eff4cf79307b2def0a3e66d": {
          "model_module": "@jupyter-widgets/base",
          "model_name": "LayoutModel",
          "state": {
            "_view_name": "LayoutView",
            "grid_template_rows": null,
            "right": null,
            "justify_content": null,
            "_view_module": "@jupyter-widgets/base",
            "overflow": null,
            "_model_module_version": "1.2.0",
            "_view_count": null,
            "flex_flow": null,
            "width": null,
            "min_width": null,
            "border": null,
            "align_items": null,
            "bottom": null,
            "_model_module": "@jupyter-widgets/base",
            "top": null,
            "grid_column": null,
            "overflow_y": null,
            "overflow_x": null,
            "grid_auto_flow": null,
            "grid_area": null,
            "grid_template_columns": null,
            "flex": null,
            "_model_name": "LayoutModel",
            "justify_items": null,
            "grid_row": null,
            "max_height": null,
            "align_content": null,
            "visibility": null,
            "align_self": null,
            "height": null,
            "min_height": null,
            "padding": null,
            "grid_auto_rows": null,
            "grid_gap": null,
            "max_width": null,
            "order": null,
            "_view_module_version": "1.2.0",
            "grid_template_areas": null,
            "object_position": null,
            "object_fit": null,
            "grid_auto_columns": null,
            "margin": null,
            "display": null,
            "left": null
          }
        },
        "adcd9f219f5b463eac5c5dab4f67bc15": {
          "model_module": "@jupyter-widgets/controls",
          "model_name": "FloatProgressModel",
          "state": {
            "_view_name": "ProgressView",
            "style": "IPY_MODEL_e0035c852dc44ade80ca746d83c10400",
            "_dom_classes": [],
            "description": "",
            "_model_name": "FloatProgressModel",
            "bar_style": "success",
            "max": 4542,
            "_view_module": "@jupyter-widgets/controls",
            "_model_module_version": "1.5.0",
            "value": 4542,
            "_view_count": null,
            "_view_module_version": "1.5.0",
            "orientation": "horizontal",
            "min": 0,
            "description_tooltip": null,
            "_model_module": "@jupyter-widgets/controls",
            "layout": "IPY_MODEL_074c68fdb30e470aa7aca6de4addeef1"
          }
        },
        "4b80b6dee31e4737b514b2f447237de1": {
          "model_module": "@jupyter-widgets/controls",
          "model_name": "HTMLModel",
          "state": {
            "_view_name": "HTMLView",
            "style": "IPY_MODEL_ecd7fcc77fdd44e4822212667182760e",
            "_dom_classes": [],
            "description": "",
            "_model_name": "HTMLModel",
            "placeholder": "​",
            "_view_module": "@jupyter-widgets/controls",
            "_model_module_version": "1.5.0",
            "value": " 5120/? [00:00&lt;00:00, 26766.63it/s]",
            "_view_count": null,
            "_view_module_version": "1.5.0",
            "description_tooltip": null,
            "_model_module": "@jupyter-widgets/controls",
            "layout": "IPY_MODEL_4a2c9cc26dff4eb88e7418e475192336"
          }
        },
        "e0035c852dc44ade80ca746d83c10400": {
          "model_module": "@jupyter-widgets/controls",
          "model_name": "ProgressStyleModel",
          "state": {
            "_view_name": "StyleView",
            "_model_name": "ProgressStyleModel",
            "description_width": "initial",
            "_view_module": "@jupyter-widgets/base",
            "_model_module_version": "1.5.0",
            "_view_count": null,
            "_view_module_version": "1.2.0",
            "bar_color": null,
            "_model_module": "@jupyter-widgets/controls"
          }
        },
        "074c68fdb30e470aa7aca6de4addeef1": {
          "model_module": "@jupyter-widgets/base",
          "model_name": "LayoutModel",
          "state": {
            "_view_name": "LayoutView",
            "grid_template_rows": null,
            "right": null,
            "justify_content": null,
            "_view_module": "@jupyter-widgets/base",
            "overflow": null,
            "_model_module_version": "1.2.0",
            "_view_count": null,
            "flex_flow": null,
            "width": null,
            "min_width": null,
            "border": null,
            "align_items": null,
            "bottom": null,
            "_model_module": "@jupyter-widgets/base",
            "top": null,
            "grid_column": null,
            "overflow_y": null,
            "overflow_x": null,
            "grid_auto_flow": null,
            "grid_area": null,
            "grid_template_columns": null,
            "flex": null,
            "_model_name": "LayoutModel",
            "justify_items": null,
            "grid_row": null,
            "max_height": null,
            "align_content": null,
            "visibility": null,
            "align_self": null,
            "height": null,
            "min_height": null,
            "padding": null,
            "grid_auto_rows": null,
            "grid_gap": null,
            "max_width": null,
            "order": null,
            "_view_module_version": "1.2.0",
            "grid_template_areas": null,
            "object_position": null,
            "object_fit": null,
            "grid_auto_columns": null,
            "margin": null,
            "display": null,
            "left": null
          }
        },
        "ecd7fcc77fdd44e4822212667182760e": {
          "model_module": "@jupyter-widgets/controls",
          "model_name": "DescriptionStyleModel",
          "state": {
            "_view_name": "StyleView",
            "_model_name": "DescriptionStyleModel",
            "description_width": "",
            "_view_module": "@jupyter-widgets/base",
            "_model_module_version": "1.5.0",
            "_view_count": null,
            "_view_module_version": "1.2.0",
            "_model_module": "@jupyter-widgets/controls"
          }
        },
        "4a2c9cc26dff4eb88e7418e475192336": {
          "model_module": "@jupyter-widgets/base",
          "model_name": "LayoutModel",
          "state": {
            "_view_name": "LayoutView",
            "grid_template_rows": null,
            "right": null,
            "justify_content": null,
            "_view_module": "@jupyter-widgets/base",
            "overflow": null,
            "_model_module_version": "1.2.0",
            "_view_count": null,
            "flex_flow": null,
            "width": null,
            "min_width": null,
            "border": null,
            "align_items": null,
            "bottom": null,
            "_model_module": "@jupyter-widgets/base",
            "top": null,
            "grid_column": null,
            "overflow_y": null,
            "overflow_x": null,
            "grid_auto_flow": null,
            "grid_area": null,
            "grid_template_columns": null,
            "flex": null,
            "_model_name": "LayoutModel",
            "justify_items": null,
            "grid_row": null,
            "max_height": null,
            "align_content": null,
            "visibility": null,
            "align_self": null,
            "height": null,
            "min_height": null,
            "padding": null,
            "grid_auto_rows": null,
            "grid_gap": null,
            "max_width": null,
            "order": null,
            "_view_module_version": "1.2.0",
            "grid_template_areas": null,
            "object_position": null,
            "object_fit": null,
            "grid_auto_columns": null,
            "margin": null,
            "display": null,
            "left": null
          }
        }
      }
    }
  },
  "cells": [
    {
      "cell_type": "markdown",
      "metadata": {
        "id": "66KZnSP835Ba"
      },
      "source": [
        "### Tensor\n",
        "- MNIST : 3차원(1, 28, 28)"
      ]
    },
    {
      "cell_type": "markdown",
      "metadata": {
        "id": "88BM4eYl4Rtb"
      },
      "source": [
        "### 3. 파이토치 기초"
      ]
    },
    {
      "cell_type": "code",
      "metadata": {
        "id": "WON1-EpU256j"
      },
      "source": [
        "import torch"
      ],
      "execution_count": 1,
      "outputs": []
    },
    {
      "cell_type": "code",
      "metadata": {
        "id": "-98cPRsA5DfJ"
      },
      "source": [
        "def print_val(val):\n",
        "  print(\"Type : \", type(val))\n",
        "  print(\"Shape : \", val.shape)\n",
        "  print(\"값 : \\n\", val)\n",
        "  print(\" \") "
      ],
      "execution_count": 2,
      "outputs": []
    },
    {
      "cell_type": "code",
      "metadata": {
        "colab": {
          "base_uri": "https://localhost:8080/"
        },
        "id": "cl4Zhcki4YGg",
        "outputId": "25a9a788-d46f-4ba4-8e90-d8d57e1df13e"
      },
      "source": [
        "# uniform : 0 ~ 1 사이 모든 값들이 나올 확률이 같음\n",
        "x = torch.rand(2, 3, 2)\n",
        "print_val(x)\n",
        "\n",
        "# Gaussian : 0을 평균으로 하는 가우시안 분포를 따르는 랜덤값\n",
        "# normal distribution\n",
        "x = torch.randn(2, 3)\n",
        "print_val(x)"
      ],
      "execution_count": 3,
      "outputs": [
        {
          "output_type": "stream",
          "text": [
            "Type :  <class 'torch.Tensor'>\n",
            "Shape :  torch.Size([2, 3, 2])\n",
            "값 : \n",
            " tensor([[[0.2503, 0.4412],\n",
            "         [0.0139, 0.9118],\n",
            "         [0.2079, 0.3154]],\n",
            "\n",
            "        [[0.2142, 0.6132],\n",
            "         [0.7347, 0.8580],\n",
            "         [0.8298, 0.1305]]])\n",
            " \n",
            "Type :  <class 'torch.Tensor'>\n",
            "Shape :  torch.Size([2, 3])\n",
            "값 : \n",
            " tensor([[-0.5183, -1.6185,  0.3259],\n",
            "        [-1.8860,  0.9430,  3.0617]])\n",
            " \n"
          ],
          "name": "stdout"
        }
      ]
    },
    {
      "cell_type": "code",
      "metadata": {
        "colab": {
          "base_uri": "https://localhost:8080/"
        },
        "id": "C11Q4WFx4ocH",
        "outputId": "128daef9-6d44-43dd-8598-9e202fb3a7d8"
      },
      "source": [
        "# 0 ~ n-1 까지 값을 원소로 갖는 배열 -> 랜덤 배열\n",
        "# permute 이므로 0에서 3까지 숫자 중 하나씩을 넣어준다.\n",
        "x = torch.randperm(4)\n",
        "print_val(x)"
      ],
      "execution_count": 4,
      "outputs": [
        {
          "output_type": "stream",
          "text": [
            "Type :  <class 'torch.Tensor'>\n",
            "Shape :  torch.Size([4])\n",
            "값 : \n",
            " tensor([3, 1, 2, 0])\n",
            " \n"
          ],
          "name": "stdout"
        }
      ]
    },
    {
      "cell_type": "code",
      "metadata": {
        "colab": {
          "base_uri": "https://localhost:8080/"
        },
        "id": "aeIi5VfN5oJ0",
        "outputId": "b23d6794-783b-446c-9d2c-acafb31c8c1d"
      },
      "source": [
        "# [start, end] 구간을 step 단위로 나눠서 배열로 생성\n",
        "x = torch.arange(0, 3, step=0.5)\n",
        "print_val(x)"
      ],
      "execution_count": 5,
      "outputs": [
        {
          "output_type": "stream",
          "text": [
            "Type :  <class 'torch.Tensor'>\n",
            "Shape :  torch.Size([6])\n",
            "값 : \n",
            " tensor([0.0000, 0.5000, 1.0000, 1.5000, 2.0000, 2.5000])\n",
            " \n"
          ],
          "name": "stdout"
        }
      ]
    },
    {
      "cell_type": "code",
      "metadata": {
        "colab": {
          "base_uri": "https://localhost:8080/"
        },
        "id": "0ZI4yGYO5xGz",
        "outputId": "369d6fcd-3aaf-41cf-ec84-e3d3aa31c447"
      },
      "source": [
        "# 3행 4열의 matrix 를 만들고 이를 1로 채운다. / 0으로 채운다.\n",
        "print_val(torch.ones(3, 4))\n",
        "print_val(torch.zeros(3, 4))"
      ],
      "execution_count": 6,
      "outputs": [
        {
          "output_type": "stream",
          "text": [
            "Type :  <class 'torch.Tensor'>\n",
            "Shape :  torch.Size([3, 4])\n",
            "값 : \n",
            " tensor([[1., 1., 1., 1.],\n",
            "        [1., 1., 1., 1.],\n",
            "        [1., 1., 1., 1.]])\n",
            " \n",
            "Type :  <class 'torch.Tensor'>\n",
            "Shape :  torch.Size([3, 4])\n",
            "값 : \n",
            " tensor([[0., 0., 0., 0.],\n",
            "        [0., 0., 0., 0.],\n",
            "        [0., 0., 0., 0.]])\n",
            " \n"
          ],
          "name": "stdout"
        }
      ]
    },
    {
      "cell_type": "code",
      "metadata": {
        "colab": {
          "base_uri": "https://localhost:8080/"
        },
        "id": "e-V0QG5k54Em",
        "outputId": "542cb289-e456-42ea-c5be-8282a618bfb1"
      },
      "source": [
        "# (2, 4) shape 으로 tensor 하나 만들어줘\n",
        "print_val(torch.Tensor(2, 4))"
      ],
      "execution_count": 7,
      "outputs": [
        {
          "output_type": "stream",
          "text": [
            "Type :  <class 'torch.Tensor'>\n",
            "Shape :  torch.Size([2, 4])\n",
            "값 : \n",
            " tensor([[2.4858e+27, 3.0787e-41, 3.7835e-44, 0.0000e+00],\n",
            "        [       nan, 0.0000e+00, 1.3733e-14, 6.4069e+02]])\n",
            " \n"
          ],
          "name": "stdout"
        }
      ]
    },
    {
      "cell_type": "code",
      "metadata": {
        "colab": {
          "base_uri": "https://localhost:8080/"
        },
        "id": "3cUcdo2C6Dd5",
        "outputId": "99c1f14d-287e-4f41-dc73-cf1da8e411c4"
      },
      "source": [
        "# shape 과 num까지 지정해줌\n",
        "print_val(torch.Tensor([2, 3]))\n",
        "print_val(torch.Tensor([[2, 3], [3, 4]]))"
      ],
      "execution_count": 8,
      "outputs": [
        {
          "output_type": "stream",
          "text": [
            "Type :  <class 'torch.Tensor'>\n",
            "Shape :  torch.Size([2])\n",
            "값 : \n",
            " tensor([2., 3.])\n",
            " \n",
            "Type :  <class 'torch.Tensor'>\n",
            "Shape :  torch.Size([2, 2])\n",
            "값 : \n",
            " tensor([[2., 3.],\n",
            "        [3., 4.]])\n",
            " \n"
          ],
          "name": "stdout"
        }
      ]
    },
    {
      "cell_type": "code",
      "metadata": {
        "colab": {
          "base_uri": "https://localhost:8080/"
        },
        "id": "lsdShhWE6bDp",
        "outputId": "3938b76f-b680-4758-d948-face0cdf8062"
      },
      "source": [
        "# 텐서 타입 변환\n",
        "x = torch.FloatTensor(2, 3)\n",
        "print_val(x)\n",
        "\n",
        "x = x.type_as(torch.IntTensor())\n",
        "print_val(x)"
      ],
      "execution_count": 9,
      "outputs": [
        {
          "output_type": "stream",
          "text": [
            "Type :  <class 'torch.Tensor'>\n",
            "Shape :  torch.Size([2, 3])\n",
            "값 : \n",
            " tensor([[2.4858e+27, 3.0787e-41, 3.0000e+00],\n",
            "        [4.0000e+00,        nan, 0.0000e+00]])\n",
            " \n",
            "Type :  <class 'torch.Tensor'>\n",
            "Shape :  torch.Size([2, 3])\n",
            "값 : \n",
            " tensor([[-2147483648,           0,           3],\n",
            "        [          4, -2147483648,           0]], dtype=torch.int32)\n",
            " \n"
          ],
          "name": "stdout"
        }
      ]
    },
    {
      "cell_type": "code",
      "metadata": {
        "colab": {
          "base_uri": "https://localhost:8080/"
        },
        "id": "SWxEyp2f6mkh",
        "outputId": "4a578e6e-4940-4fa8-b9e3-3a5b763e70f7"
      },
      "source": [
        "# 텐서 크기 반환\n",
        "torch.FloatTensor(3, 4, 5).size()"
      ],
      "execution_count": 10,
      "outputs": [
        {
          "output_type": "execute_result",
          "data": {
            "text/plain": [
              "torch.Size([3, 4, 5])"
            ]
          },
          "metadata": {
            "tags": []
          },
          "execution_count": 10
        }
      ]
    },
    {
      "cell_type": "code",
      "metadata": {
        "colab": {
          "base_uri": "https://localhost:8080/"
        },
        "id": "9hSQ6uTA6vyZ",
        "outputId": "49936639-dee5-4543-a855-4c046870885e"
      },
      "source": [
        "# numpy array -> torch tensor\n",
        "import numpy as np\n",
        "np_x = np.ndarray((2, 3), dtype=int)\n",
        "print_val(np_x)\n",
        "\n",
        "x = torch.from_numpy(np_x)\n",
        "print_val(x)"
      ],
      "execution_count": 11,
      "outputs": [
        {
          "output_type": "stream",
          "text": [
            "Type :  <class 'numpy.ndarray'>\n",
            "Shape :  (2, 3)\n",
            "값 : \n",
            " [[94362260916144              0              0]\n",
            " [             0              0              0]]\n",
            " \n",
            "Type :  <class 'torch.Tensor'>\n",
            "Shape :  torch.Size([2, 3])\n",
            "값 : \n",
            " tensor([[94362260916144,              0,              0],\n",
            "        [             0,              0,              0]])\n",
            " \n"
          ],
          "name": "stdout"
        }
      ]
    },
    {
      "cell_type": "code",
      "metadata": {
        "id": "dclG92Uh6867"
      },
      "source": [
        ""
      ],
      "execution_count": 11,
      "outputs": []
    },
    {
      "cell_type": "markdown",
      "metadata": {
        "id": "OWUu4Lqb7Ny0"
      },
      "source": [
        "### (4) MNIST 데이터 로드"
      ]
    },
    {
      "cell_type": "markdown",
      "metadata": {
        "id": "dVi-NwRG--vD"
      },
      "source": [
        "### (4-0) MNIST는 어떻게 생겼나?"
      ]
    },
    {
      "cell_type": "code",
      "metadata": {
        "id": "bSiZJv8Y7M6D"
      },
      "source": [
        "import torchvision.datasets as dset\n",
        "import torchvision.transforms as transforms\n",
        "from torch.utils.data import DataLoader\n",
        "from torch.autograd import Variable\n",
        "import matplotlib.pyplot as plt"
      ],
      "execution_count": 12,
      "outputs": []
    },
    {
      "cell_type": "code",
      "metadata": {
        "colab": {
          "base_uri": "https://localhost:8080/",
          "height": 1000,
          "referenced_widgets": [
            "69de400b43354f76a95ff989d77138b0",
            "ff975fbea1f940c1a0abb51d0eefe87a",
            "ca4c4ab95b6243e896195aa3aea5e39f",
            "8a9d97089d8d40818196c10a130eb320",
            "ccc66c14b69c4aac9da66b47860add9f",
            "3b4378543f65497caac20221ad3a6041",
            "cd1772bba38d45ebb26cf8000aab80d1",
            "4059e5284cde4c5689fbd43f984e76dc",
            "d332715f3f944740abb6d72c98ec1cd8",
            "92ca710eb453444db1fe2a1703de67ef",
            "c36fca1741824d2aaa00d459476a3690",
            "50ca76321051480ea053e322c36a555e",
            "d7cfc0b29acd42049635cd6231602d47",
            "c921d68ee73943c98c144b769b1ea286",
            "657b236f6b314a249b8e06a3e654b65c",
            "a8303346650442c1b1b441e2bd97964b",
            "ea8054be6168438bae6a5b5ce024e5a2",
            "c105aafe7daa49e0b065456dfc69391c",
            "bad3490ca96248e39e4129ea366e046c",
            "199a4b2232e94dd08b23acc63eba46d9",
            "96d65e6fa4404b2d8f66024e29074344",
            "19861a7e18a647e9a13e9f7d1c1a2bb5",
            "d83318c93b7742f384274e332a5755dc",
            "6a4a3ccb538246c3bc031ebf71831924",
            "eae439706404447e8c65a52a5445ae12",
            "2b56a3f35eff4cf79307b2def0a3e66d",
            "adcd9f219f5b463eac5c5dab4f67bc15",
            "4b80b6dee31e4737b514b2f447237de1",
            "e0035c852dc44ade80ca746d83c10400",
            "074c68fdb30e470aa7aca6de4addeef1",
            "ecd7fcc77fdd44e4822212667182760e",
            "4a2c9cc26dff4eb88e7418e475192336"
          ]
        },
        "id": "c0Wrr0tr7vcq",
        "outputId": "8e553383-1fee-4767-ddc9-ba00abd2529e"
      },
      "source": [
        "# 1. MNIST 로드\n",
        "mnist_train = dset.MNIST(\"\", train=True, transform=transforms.ToTensor(),\n",
        "                         target_transform=None, download=True)\n",
        "\n",
        "# 2. 그려보기\n",
        "# MNIST data 하나 형태 출력\n",
        "image, label = mnist_train.__getitem__(0)\n",
        "print(image.size(), label)\n",
        "\n",
        "image, label = mnist_train[1]\n",
        "print(image.size(), label)\n",
        "\n",
        "print(mnist_train.__len__())\n",
        "print(\"mnist_train 길이 : \", len(mnist_train))\n",
        "\n",
        "# 3. 그리기\n",
        "print(mnist_train[0][1]) # label\n",
        "print(mnist_train[0][0].size()) # image\n",
        "\n",
        "for i in range(3):\n",
        "  img = mnist_train[i][0].numpy() # image 타입을 numpy 로 변환 (1, 28, 28)\n",
        "  plt.title(\"label : %d\" % mnist_train[i][1])\n",
        "  plt.imshow(img[0], cmap=\"gray\")\n",
        "  plt.show()\n"
      ],
      "execution_count": 13,
      "outputs": [
        {
          "output_type": "stream",
          "text": [
            "Downloading http://yann.lecun.com/exdb/mnist/train-images-idx3-ubyte.gz\n",
            "Downloading http://yann.lecun.com/exdb/mnist/train-images-idx3-ubyte.gz to MNIST/raw/train-images-idx3-ubyte.gz\n"
          ],
          "name": "stdout"
        },
        {
          "output_type": "display_data",
          "data": {
            "application/vnd.jupyter.widget-view+json": {
              "model_id": "69de400b43354f76a95ff989d77138b0",
              "version_minor": 0,
              "version_major": 2
            },
            "text/plain": [
              "HBox(children=(FloatProgress(value=0.0, max=9912422.0), HTML(value='')))"
            ]
          },
          "metadata": {
            "tags": []
          }
        },
        {
          "output_type": "stream",
          "text": [
            "\n",
            "Extracting MNIST/raw/train-images-idx3-ubyte.gz to MNIST/raw\n",
            "\n",
            "Downloading http://yann.lecun.com/exdb/mnist/train-labels-idx1-ubyte.gz\n",
            "Downloading http://yann.lecun.com/exdb/mnist/train-labels-idx1-ubyte.gz to MNIST/raw/train-labels-idx1-ubyte.gz\n"
          ],
          "name": "stdout"
        },
        {
          "output_type": "display_data",
          "data": {
            "application/vnd.jupyter.widget-view+json": {
              "model_id": "d332715f3f944740abb6d72c98ec1cd8",
              "version_minor": 0,
              "version_major": 2
            },
            "text/plain": [
              "HBox(children=(FloatProgress(value=0.0, max=28881.0), HTML(value='')))"
            ]
          },
          "metadata": {
            "tags": []
          }
        },
        {
          "output_type": "stream",
          "text": [
            "\n",
            "Extracting MNIST/raw/train-labels-idx1-ubyte.gz to MNIST/raw\n",
            "\n",
            "Downloading http://yann.lecun.com/exdb/mnist/t10k-images-idx3-ubyte.gz\n",
            "Downloading http://yann.lecun.com/exdb/mnist/t10k-images-idx3-ubyte.gz to MNIST/raw/t10k-images-idx3-ubyte.gz\n",
            "Failed to download (trying next):\n",
            "HTTP Error 503: Service Unavailable\n",
            "\n",
            "Downloading https://ossci-datasets.s3.amazonaws.com/mnist/t10k-images-idx3-ubyte.gz\n",
            "Downloading https://ossci-datasets.s3.amazonaws.com/mnist/t10k-images-idx3-ubyte.gz to MNIST/raw/t10k-images-idx3-ubyte.gz\n"
          ],
          "name": "stdout"
        },
        {
          "output_type": "display_data",
          "data": {
            "application/vnd.jupyter.widget-view+json": {
              "model_id": "ea8054be6168438bae6a5b5ce024e5a2",
              "version_minor": 0,
              "version_major": 2
            },
            "text/plain": [
              "HBox(children=(FloatProgress(value=0.0, max=1648877.0), HTML(value='')))"
            ]
          },
          "metadata": {
            "tags": []
          }
        },
        {
          "output_type": "stream",
          "text": [
            "\n",
            "Extracting MNIST/raw/t10k-images-idx3-ubyte.gz to MNIST/raw\n",
            "\n",
            "Downloading http://yann.lecun.com/exdb/mnist/t10k-labels-idx1-ubyte.gz\n",
            "Failed to download (trying next):\n",
            "HTTP Error 503: Service Unavailable\n",
            "\n",
            "Downloading https://ossci-datasets.s3.amazonaws.com/mnist/t10k-labels-idx1-ubyte.gz\n",
            "Downloading https://ossci-datasets.s3.amazonaws.com/mnist/t10k-labels-idx1-ubyte.gz to MNIST/raw/t10k-labels-idx1-ubyte.gz\n"
          ],
          "name": "stdout"
        },
        {
          "output_type": "display_data",
          "data": {
            "application/vnd.jupyter.widget-view+json": {
              "model_id": "eae439706404447e8c65a52a5445ae12",
              "version_minor": 0,
              "version_major": 2
            },
            "text/plain": [
              "HBox(children=(FloatProgress(value=0.0, max=4542.0), HTML(value='')))"
            ]
          },
          "metadata": {
            "tags": []
          }
        },
        {
          "output_type": "stream",
          "text": [
            "\n",
            "Extracting MNIST/raw/t10k-labels-idx1-ubyte.gz to MNIST/raw\n",
            "\n",
            "torch.Size([1, 28, 28]) 5\n",
            "torch.Size([1, 28, 28]) 0\n",
            "60000\n",
            "mnist_train 길이 :  60000\n",
            "5\n",
            "torch.Size([1, 28, 28])\n"
          ],
          "name": "stdout"
        },
        {
          "output_type": "stream",
          "text": [
            "/usr/local/lib/python3.7/dist-packages/torchvision/datasets/mnist.py:498: UserWarning: The given NumPy array is not writeable, and PyTorch does not support non-writeable tensors. This means you can write to the underlying (supposedly non-writeable) NumPy array using the tensor. You may want to copy the array to protect its data or make it writeable before converting it to a tensor. This type of warning will be suppressed for the rest of this program. (Triggered internally at  /pytorch/torch/csrc/utils/tensor_numpy.cpp:180.)\n",
            "  return torch.from_numpy(parsed.astype(m[2], copy=False)).view(*s)\n"
          ],
          "name": "stderr"
        },
        {
          "output_type": "display_data",
          "data": {
            "image/png": "[encoded data removed]",
            "text/plain": [
              "<Figure size 432x288 with 1 Axes>"
            ]
          },
          "metadata": {
            "tags": [],
            "needs_background": "light"
          }
        },
        {
          "output_type": "display_data",
          "data": {
            "image/png": "[encoded data removed]",
            "text/plain": [
              "<Figure size 432x288 with 1 Axes>"
            ]
          },
          "metadata": {
            "tags": [],
            "needs_background": "light"
          }
        },
        {
          "output_type": "display_data",
          "data": {
            "image/png": "[encoded data removed]",
            "text/plain": [
              "<Figure size 432x288 with 1 Axes>"
            ]
          },
          "metadata": {
            "tags": [],
            "needs_background": "light"
          }
        }
      ]
    },
    {
      "cell_type": "markdown",
      "metadata": {
        "id": "sgQPB8Jr-sv6"
      },
      "source": [
        "### (4-1) MNIST train, test dataset 가져오기"
      ]
    },
    {
      "cell_type": "code",
      "metadata": {
        "id": "K5X1G6eU85uL"
      },
      "source": [
        "# train용으로 쓰겠다.\n",
        "mnist_train = dset.MNIST(\"\", train=True, transform=transforms.ToTensor(),\n",
        "                         target_transform=None, download=True)\n",
        "\n",
        "# test용으로 쓰겠다. \n",
        "mnist_test = dset.MNIST(\"\", train=False, transform=transforms.ToTensor(),\n",
        "                        target_transform=None, download=True)"
      ],
      "execution_count": 14,
      "outputs": []
    },
    {
      "cell_type": "markdown",
      "metadata": {
        "id": "OXSRJTJe_HBT"
      },
      "source": [
        "### (4-2) 대략적인 데이터 형태"
      ]
    },
    {
      "cell_type": "code",
      "metadata": {
        "id": "GhDNguNJ-qOi",
        "colab": {
          "base_uri": "https://localhost:8080/",
          "height": 349
        },
        "outputId": "14f66ab1-a2da-42f7-d2f2-5d7a0f1bb5f0"
      },
      "source": [
        "print(\"mnist_train 길이 : \", len(mnist_train))\n",
        "print(\"mnist_test 길이 : \", len(mnist_test))\n",
        "\n",
        "# 데이터 하나 형태\n",
        "image, label = mnist_train.__getitem__(0) # 0번째 데이터\n",
        "print(\"image data 형태 : \", image.size())\n",
        "print(\"label : \", label)\n",
        "\n",
        "# 그리기\n",
        "img = image.numpy()\n",
        "plt.title(\"label : %d\" % label)\n",
        "plt.imshow(img[0], cmap=\"gray\")\n",
        "plt.show()"
      ],
      "execution_count": 15,
      "outputs": [
        {
          "output_type": "stream",
          "text": [
            "mnist_train 길이 :  60000\n",
            "mnist_test 길이 :  10000\n",
            "image data 형태 :  torch.Size([1, 28, 28])\n",
            "label :  5\n"
          ],
          "name": "stdout"
        },
        {
          "output_type": "display_data",
          "data": {
            "image/png": "[encoded data removed]",
            "text/plain": [
              "<Figure size 432x288 with 1 Axes>"
            ]
          },
          "metadata": {
            "tags": [],
            "needs_background": "light"
          }
        }
      ]
    },
    {
      "cell_type": "markdown",
      "metadata": {
        "id": "1dAgwh0I_q8R"
      },
      "source": [
        "### (4-3) 데이터 로드 함수\n",
        "- 학습시킬 때 batch_size 단위로 끊어서 로드하기 위함"
      ]
    },
    {
      "cell_type": "code",
      "metadata": {
        "id": "mthlG-sW_o3P"
      },
      "source": [
        "batch_size = 16"
      ],
      "execution_count": 16,
      "outputs": []
    },
    {
      "cell_type": "code",
      "metadata": {
        "id": "DFOE4vDY_yQa"
      },
      "source": [
        "train_loader = torch.utils.data.DataLoader(list(mnist_train)[:batch_size*100], batch_size=batch_size,\n",
        "                                           # mnist_train 을 트레인 시키자\n",
        "                                           shuffle=True, num_workers=2,\n",
        "                                           # batch_size 만큼 나눌 때 나머지는 버려라\n",
        "                                           drop_last=True)\n",
        "\n",
        "test_loader = torch.utils.data.DataLoader((mnist_test), batch_size=batch_size,\n",
        "                                          shuffle=False, num_workers=2,\n",
        "                                          drop_last=True)"
      ],
      "execution_count": 17,
      "outputs": []
    },
    {
      "cell_type": "code",
      "metadata": {
        "id": "_bgRP6HoATR9",
        "colab": {
          "base_uri": "https://localhost:8080/",
          "height": 1000
        },
        "outputId": "add7050b-2f9b-42d1-80a1-99f002d16524"
      },
      "source": [
        "n = 3 # 샘플로 그려볼 데이터 개수\n",
        "for i, [imgs, labels] in enumerate(test_loader): # batch_size 만큼\n",
        "  if i > 5:\n",
        "    break\n",
        "  \n",
        "  print(\"[%d]\" % i)\n",
        "  print(\"한번에 로드되는 데이터 크기 : \", len(imgs))\n",
        "\n",
        "  # GPU에 로드되기 위함\n",
        "  x = Variable(imgs) #.cuda()   # (batch_size, 1, 28, 28)\n",
        "  x = x.reshape((x.shape[0], x.shape[2], x.shape[3])) # (batch_size, 1, 28, 28) -> (batch_size, 28, 28)\n",
        "  y_ = Variable(labels) #.cuda()  # (batch_size)\n",
        "\n",
        "  print(x.shape)\n",
        "  print(y_.shape)\n",
        "\n",
        "  # 그리기 \n",
        "  for j in range(3):\n",
        "    img = imgs[j].numpy() # image 타입을 numpy 로 변환 (1, 28, 28)\n",
        "    img = img.reshape((img.shape[1], img.shape[2])) # (1, 28, 28) -> (28, 28)\n",
        "\n",
        "    plt.subplot(1, n, j+1) # (1, 3) 형태 플랏의 j번째 자리에 그리겠다.\n",
        "    plt.imshow(img, cmap=\"gray\")\n",
        "    plt.title(\"label : %d\" % labels[j])\n",
        "  plt.show()"
      ],
      "execution_count": 18,
      "outputs": [
        {
          "output_type": "stream",
          "text": [
            "[0]\n",
            "한번에 로드되는 데이터 크기 :  16\n",
            "torch.Size([16, 28, 28])\n",
            "torch.Size([16])\n"
          ],
          "name": "stdout"
        },
        {
          "output_type": "display_data",
          "data": {
            "image/png": "[encoded data removed]",
            "text/plain": [
              "<Figure size 432x288 with 3 Axes>"
            ]
          },
          "metadata": {
            "tags": [],
            "needs_background": "light"
          }
        },
        {
          "output_type": "stream",
          "text": [
            "[1]\n",
            "한번에 로드되는 데이터 크기 :  16\n",
            "torch.Size([16, 28, 28])\n",
            "torch.Size([16])\n"
          ],
          "name": "stdout"
        },
        {
          "output_type": "display_data",
          "data": {
            "image/png": "[encoded data removed]",
            "text/plain": [
              "<Figure size 432x288 with 3 Axes>"
            ]
          },
          "metadata": {
            "tags": [],
            "needs_background": "light"
          }
        },
        {
          "output_type": "stream",
          "text": [
            "[2]\n",
            "한번에 로드되는 데이터 크기 :  16\n",
            "torch.Size([16, 28, 28])\n",
            "torch.Size([16])\n"
          ],
          "name": "stdout"
        },
        {
          "output_type": "display_data",
          "data": {
            "image/png": "[encoded data removed]",
            "text/plain": [
              "<Figure size 432x288 with 3 Axes>"
            ]
          },
          "metadata": {
            "tags": [],
            "needs_background": "light"
          }
        },
        {
          "output_type": "stream",
          "text": [
            "[3]\n",
            "한번에 로드되는 데이터 크기 :  16\n",
            "torch.Size([16, 28, 28])\n",
            "torch.Size([16])\n"
          ],
          "name": "stdout"
        },
        {
          "output_type": "display_data",
          "data": {
            "image/png": "[encoded data removed]",
            "text/plain": [
              "<Figure size 432x288 with 3 Axes>"
            ]
          },
          "metadata": {
            "tags": [],
            "needs_background": "light"
          }
        },
        {
          "output_type": "stream",
          "text": [
            "[4]\n",
            "한번에 로드되는 데이터 크기 :  16\n",
            "torch.Size([16, 28, 28])\n",
            "torch.Size([16])\n"
          ],
          "name": "stdout"
        },
        {
          "output_type": "display_data",
          "data": {
            "image/png": "[encoded data removed]",
            "text/plain": [
              "<Figure size 432x288 with 3 Axes>"
            ]
          },
          "metadata": {
            "tags": [],
            "needs_background": "light"
          }
        },
        {
          "output_type": "stream",
          "text": [
            "[5]\n",
            "한번에 로드되는 데이터 크기 :  16\n",
            "torch.Size([16, 28, 28])\n",
            "torch.Size([16])\n"
          ],
          "name": "stdout"
        },
        {
          "output_type": "display_data",
          "data": {
            "image/png": "[encoded data removed]",
            "text/plain": [
              "<Figure size 432x288 with 3 Axes>"
            ]
          },
          "metadata": {
            "tags": [],
            "needs_background": "light"
          }
        }
      ]
    },
    {
      "cell_type": "code",
      "metadata": {
        "id": "l2nRPmy0DEZc"
      },
      "source": [
        ""
      ],
      "execution_count": 18,
      "outputs": []
    }
  ]
}