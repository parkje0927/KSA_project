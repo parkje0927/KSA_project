{
 "cells": [
  {
   "cell_type": "code",
   "execution_count": 1,
   "metadata": {},
   "outputs": [
    {
     "name": "stdout",
     "output_type": "stream",
     "text": [
      "Requirement already satisfied: keras==2.4.3 in /Library/Frameworks/Python.framework/Versions/3.9/lib/python3.9/site-packages (2.4.3)\n",
      "Requirement already satisfied: scipy>=0.14 in /Library/Frameworks/Python.framework/Versions/3.9/lib/python3.9/site-packages (from keras==2.4.3) (1.6.3)\n",
      "Requirement already satisfied: numpy>=1.9.1 in /Library/Frameworks/Python.framework/Versions/3.9/lib/python3.9/site-packages (from keras==2.4.3) (1.19.5)\n",
      "Requirement already satisfied: pyyaml in /Library/Frameworks/Python.framework/Versions/3.9/lib/python3.9/site-packages (from keras==2.4.3) (5.4.1)\n",
      "Requirement already satisfied: h5py in /Library/Frameworks/Python.framework/Versions/3.9/lib/python3.9/site-packages (from keras==2.4.3) (3.1.0)\n",
      "Collecting tensorflow==2.5.0\n",
      "  Using cached tensorflow-2.5.0-cp39-cp39-macosx_10_11_x86_64.whl (195.7 MB)\n",
      "Requirement already satisfied: gast==0.4.0 in /Library/Frameworks/Python.framework/Versions/3.9/lib/python3.9/site-packages (from tensorflow==2.5.0) (0.4.0)\n",
      "Requirement already satisfied: astunparse~=1.6.3 in /Library/Frameworks/Python.framework/Versions/3.9/lib/python3.9/site-packages (from tensorflow==2.5.0) (1.6.3)\n",
      "Collecting tensorflow-estimator<2.6.0,>=2.5.0rc0\n",
      "  Using cached tensorflow_estimator-2.5.0-py2.py3-none-any.whl (462 kB)\n",
      "Requirement already satisfied: flatbuffers~=1.12.0 in /Library/Frameworks/Python.framework/Versions/3.9/lib/python3.9/site-packages (from tensorflow==2.5.0) (1.12)\n",
      "Requirement already satisfied: google-pasta~=0.2 in /Library/Frameworks/Python.framework/Versions/3.9/lib/python3.9/site-packages (from tensorflow==2.5.0) (0.2.0)\n",
      "Requirement already satisfied: absl-py~=0.10 in /Library/Frameworks/Python.framework/Versions/3.9/lib/python3.9/site-packages (from tensorflow==2.5.0) (0.12.0)\n",
      "Requirement already satisfied: numpy~=1.19.2 in /Library/Frameworks/Python.framework/Versions/3.9/lib/python3.9/site-packages (from tensorflow==2.5.0) (1.19.5)\n",
      "Requirement already satisfied: six~=1.15.0 in /Library/Frameworks/Python.framework/Versions/3.9/lib/python3.9/site-packages (from tensorflow==2.5.0) (1.15.0)\n",
      "Requirement already satisfied: wheel~=0.35 in /Library/Frameworks/Python.framework/Versions/3.9/lib/python3.9/site-packages (from tensorflow==2.5.0) (0.36.2)\n",
      "Requirement already satisfied: protobuf>=3.9.2 in /Library/Frameworks/Python.framework/Versions/3.9/lib/python3.9/site-packages (from tensorflow==2.5.0) (3.16.0)\n",
      "Requirement already satisfied: h5py~=3.1.0 in /Library/Frameworks/Python.framework/Versions/3.9/lib/python3.9/site-packages (from tensorflow==2.5.0) (3.1.0)\n",
      "Requirement already satisfied: termcolor~=1.1.0 in /Library/Frameworks/Python.framework/Versions/3.9/lib/python3.9/site-packages (from tensorflow==2.5.0) (1.1.0)\n",
      "Requirement already satisfied: typing-extensions~=3.7.4 in /Library/Frameworks/Python.framework/Versions/3.9/lib/python3.9/site-packages (from tensorflow==2.5.0) (3.7.4.3)\n",
      "Collecting keras-nightly~=2.5.0.dev\n",
      "  Using cached keras_nightly-2.5.0.dev2021032900-py2.py3-none-any.whl (1.2 MB)\n",
      "Collecting keras-preprocessing~=1.1.2\n",
      "  Using cached Keras_Preprocessing-1.1.2-py2.py3-none-any.whl (42 kB)\n",
      "Requirement already satisfied: opt-einsum~=3.3.0 in /Library/Frameworks/Python.framework/Versions/3.9/lib/python3.9/site-packages (from tensorflow==2.5.0) (3.3.0)\n",
      "Collecting tensorboard~=2.5\n",
      "  Using cached tensorboard-2.5.0-py3-none-any.whl (6.0 MB)\n",
      "Requirement already satisfied: wrapt~=1.12.1 in /Library/Frameworks/Python.framework/Versions/3.9/lib/python3.9/site-packages (from tensorflow==2.5.0) (1.12.1)\n",
      "Requirement already satisfied: grpcio~=1.34.0 in /Library/Frameworks/Python.framework/Versions/3.9/lib/python3.9/site-packages (from tensorflow==2.5.0) (1.34.1)\n",
      "Collecting tensorboard-data-server<0.7.0,>=0.6.0\n",
      "  Using cached tensorboard_data_server-0.6.1-py3-none-macosx_10_9_x86_64.whl (3.5 MB)\n",
      "Requirement already satisfied: werkzeug>=0.11.15 in /Library/Frameworks/Python.framework/Versions/3.9/lib/python3.9/site-packages (from tensorboard~=2.5->tensorflow==2.5.0) (1.0.1)\n",
      "Collecting tensorboard-plugin-wit>=1.6.0\n",
      "  Using cached tensorboard_plugin_wit-1.8.0-py3-none-any.whl (781 kB)\n",
      "Requirement already satisfied: google-auth-oauthlib<0.5,>=0.4.1 in /Library/Frameworks/Python.framework/Versions/3.9/lib/python3.9/site-packages (from tensorboard~=2.5->tensorflow==2.5.0) (0.4.4)\n",
      "Requirement already satisfied: setuptools>=41.0.0 in /Library/Frameworks/Python.framework/Versions/3.9/lib/python3.9/site-packages (from tensorboard~=2.5->tensorflow==2.5.0) (49.2.1)\n",
      "Requirement already satisfied: google-auth<2,>=1.6.3 in /Library/Frameworks/Python.framework/Versions/3.9/lib/python3.9/site-packages (from tensorboard~=2.5->tensorflow==2.5.0) (1.30.0)\n",
      "Requirement already satisfied: markdown>=2.6.8 in /Library/Frameworks/Python.framework/Versions/3.9/lib/python3.9/site-packages (from tensorboard~=2.5->tensorflow==2.5.0) (3.3.4)\n",
      "Requirement already satisfied: requests<3,>=2.21.0 in /Library/Frameworks/Python.framework/Versions/3.9/lib/python3.9/site-packages (from tensorboard~=2.5->tensorflow==2.5.0) (2.25.1)\n",
      "Requirement already satisfied: rsa<5,>=3.1.4 in /Library/Frameworks/Python.framework/Versions/3.9/lib/python3.9/site-packages (from google-auth<2,>=1.6.3->tensorboard~=2.5->tensorflow==2.5.0) (4.7.2)\n",
      "Requirement already satisfied: pyasn1-modules>=0.2.1 in /Library/Frameworks/Python.framework/Versions/3.9/lib/python3.9/site-packages (from google-auth<2,>=1.6.3->tensorboard~=2.5->tensorflow==2.5.0) (0.2.8)\n",
      "Requirement already satisfied: cachetools<5.0,>=2.0.0 in /Library/Frameworks/Python.framework/Versions/3.9/lib/python3.9/site-packages (from google-auth<2,>=1.6.3->tensorboard~=2.5->tensorflow==2.5.0) (4.2.2)\n",
      "Requirement already satisfied: requests-oauthlib>=0.7.0 in /Library/Frameworks/Python.framework/Versions/3.9/lib/python3.9/site-packages (from google-auth-oauthlib<0.5,>=0.4.1->tensorboard~=2.5->tensorflow==2.5.0) (1.3.0)\n",
      "Requirement already satisfied: pyasn1<0.5.0,>=0.4.6 in /Library/Frameworks/Python.framework/Versions/3.9/lib/python3.9/site-packages (from pyasn1-modules>=0.2.1->google-auth<2,>=1.6.3->tensorboard~=2.5->tensorflow==2.5.0) (0.4.8)\n",
      "Requirement already satisfied: urllib3<1.27,>=1.21.1 in /Library/Frameworks/Python.framework/Versions/3.9/lib/python3.9/site-packages (from requests<3,>=2.21.0->tensorboard~=2.5->tensorflow==2.5.0) (1.26.4)\n",
      "Requirement already satisfied: chardet<5,>=3.0.2 in /Library/Frameworks/Python.framework/Versions/3.9/lib/python3.9/site-packages (from requests<3,>=2.21.0->tensorboard~=2.5->tensorflow==2.5.0) (4.0.0)\n",
      "Requirement already satisfied: idna<3,>=2.5 in /Library/Frameworks/Python.framework/Versions/3.9/lib/python3.9/site-packages (from requests<3,>=2.21.0->tensorboard~=2.5->tensorflow==2.5.0) (2.10)\n",
      "Requirement already satisfied: certifi>=2017.4.17 in /Library/Frameworks/Python.framework/Versions/3.9/lib/python3.9/site-packages (from requests<3,>=2.21.0->tensorboard~=2.5->tensorflow==2.5.0) (2020.12.5)\n",
      "Requirement already satisfied: oauthlib>=3.0.0 in /Library/Frameworks/Python.framework/Versions/3.9/lib/python3.9/site-packages (from requests-oauthlib>=0.7.0->google-auth-oauthlib<0.5,>=0.4.1->tensorboard~=2.5->tensorflow==2.5.0) (3.1.0)\n",
      "Installing collected packages: tensorboard-plugin-wit, tensorboard-data-server, tensorflow-estimator, tensorboard, keras-preprocessing, keras-nightly, tensorflow\n",
      "Successfully installed keras-nightly-2.5.0.dev2021032900 keras-preprocessing-1.1.2 tensorboard-2.5.0 tensorboard-data-server-0.6.1 tensorboard-plugin-wit-1.8.0 tensorflow-2.5.0 tensorflow-estimator-2.5.0\n",
      "Requirement already satisfied: matplotlib in /Library/Frameworks/Python.framework/Versions/3.9/lib/python3.9/site-packages (3.4.1)\n",
      "Requirement already satisfied: cycler>=0.10 in /Library/Frameworks/Python.framework/Versions/3.9/lib/python3.9/site-packages (from matplotlib) (0.10.0)\n",
      "Requirement already satisfied: pyparsing>=2.2.1 in /Library/Frameworks/Python.framework/Versions/3.9/lib/python3.9/site-packages (from matplotlib) (2.4.7)\n",
      "Requirement already satisfied: kiwisolver>=1.0.1 in /Library/Frameworks/Python.framework/Versions/3.9/lib/python3.9/site-packages (from matplotlib) (1.3.1)\n",
      "Requirement already satisfied: python-dateutil>=2.7 in /Library/Frameworks/Python.framework/Versions/3.9/lib/python3.9/site-packages (from matplotlib) (2.8.1)\n",
      "Requirement already satisfied: numpy>=1.16 in /Library/Frameworks/Python.framework/Versions/3.9/lib/python3.9/site-packages (from matplotlib) (1.19.5)\n",
      "Requirement already satisfied: pillow>=6.2.0 in /Library/Frameworks/Python.framework/Versions/3.9/lib/python3.9/site-packages (from matplotlib) (8.2.0)\n",
      "Requirement already satisfied: six in /Library/Frameworks/Python.framework/Versions/3.9/lib/python3.9/site-packages (from cycler>=0.10->matplotlib) (1.15.0)\n"
     ]
    }
   ],
   "source": [
    "!pip install keras==2.4.3\n",
    "!pip install tensorflow==2.5.0\n",
    "!pip install matplotlib"
   ]
  },
  {
   "cell_type": "markdown",
   "metadata": {},
   "source": [
    "#### 고양이 / 개 분류 학습을 통해 Data Augmentation 과 Batch Normalization의 효과에 대해서 이해"
   ]
  },
  {
   "cell_type": "code",
   "execution_count": 8,
   "metadata": {},
   "outputs": [],
   "source": [
    "import os, shutil\n",
    "\n",
    "base_dir = \"/Users/jh/Desktop/dogcat/Dog_v_Cat_small\"\n",
    "checkpoint_dir = \"/Users/jh/Desktop/dogcat/checkpoints\"\n",
    "\n",
    "# Directory for Training, Validation, Test set\n",
    "train_dir = os.path.join(base_dir, 'train')\n",
    "validation_dir = os.path.join(base_dir, 'validation')"
   ]
  },
  {
   "cell_type": "code",
   "execution_count": null,
   "metadata": {},
   "outputs": [],
   "source": []
  },
  {
   "cell_type": "markdown",
   "metadata": {},
   "source": [
    "- Batch Normalization 이 없는 CNN 모델"
   ]
  },
  {
   "cell_type": "code",
   "execution_count": 9,
   "metadata": {},
   "outputs": [
    {
     "name": "stdout",
     "output_type": "stream",
     "text": [
      "Model: \"functional_3\"\n",
      "_________________________________________________________________\n",
      "Layer (type)                 Output Shape              Param #   \n",
      "=================================================================\n",
      "input_2 (InputLayer)         [(None, 150, 150, 3)]     0         \n",
      "_________________________________________________________________\n",
      "conv2d_4 (Conv2D)            (None, 148, 148, 32)      896       \n",
      "_________________________________________________________________\n",
      "max_pooling2d_4 (MaxPooling2 (None, 74, 74, 32)        0         \n",
      "_________________________________________________________________\n",
      "conv2d_5 (Conv2D)            (None, 72, 72, 64)        18496     \n",
      "_________________________________________________________________\n",
      "max_pooling2d_5 (MaxPooling2 (None, 36, 36, 64)        0         \n",
      "_________________________________________________________________\n",
      "conv2d_6 (Conv2D)            (None, 34, 34, 128)       73856     \n",
      "_________________________________________________________________\n",
      "max_pooling2d_6 (MaxPooling2 (None, 17, 17, 128)       0         \n",
      "_________________________________________________________________\n",
      "conv2d_7 (Conv2D)            (None, 15, 15, 128)       147584    \n",
      "_________________________________________________________________\n",
      "max_pooling2d_7 (MaxPooling2 (None, 7, 7, 128)         0         \n",
      "_________________________________________________________________\n",
      "flatten_1 (Flatten)          (None, 6272)              0         \n",
      "_________________________________________________________________\n",
      "dropout_1 (Dropout)          (None, 6272)              0         \n",
      "_________________________________________________________________\n",
      "dense_2 (Dense)              (None, 512)               3211776   \n",
      "_________________________________________________________________\n",
      "dense_3 (Dense)              (None, 2)                 1026      \n",
      "=================================================================\n",
      "Total params: 3,453,634\n",
      "Trainable params: 3,453,634\n",
      "Non-trainable params: 0\n",
      "_________________________________________________________________\n"
     ]
    }
   ],
   "source": [
    "from tensorflow import keras\n",
    "from tensorflow.keras import layers\n",
    "from tensorflow.keras.utils import plot_model\n",
    "\n",
    "inputs = layers.Input(shape=(150, 150, 3))\n",
    "\n",
    "# representation layers\n",
    "x = layers.Conv2D(32, (3, 3), activation='relu')(inputs)\n",
    "x = layers.MaxPooling2D((2, 2))(x)\n",
    "x = layers.Conv2D(64, (3, 3), activation='relu')(x)\n",
    "x = layers.MaxPooling2D((2, 2))(x)\n",
    "x = layers.Conv2D(128, (3, 3), activation='relu')(x)\n",
    "x = layers.MaxPooling2D((2, 2))(x)\n",
    "x = layers.Conv2D(128, (3, 3), activation='relu')(x)\n",
    "x = layers.MaxPooling2D((2, 2))(x)\n",
    "\n",
    "# fully connected layers\n",
    "x = layers.Flatten()(x)\n",
    "x = layers.Dropout(0.5)(x) # add a dropout layer\n",
    "x = layers.Dense(512, activation='relu')(x)\n",
    "x = layers.Dense(2, activation='softmax')(x)  # 3개의 class 라면 2가 아니라 3이 되어야 한다.\n",
    "\n",
    "model = keras.Model(inputs, x)\n",
    "model.summary()"
   ]
  },
  {
   "cell_type": "code",
   "execution_count": null,
   "metadata": {},
   "outputs": [],
   "source": []
  },
  {
   "cell_type": "markdown",
   "metadata": {},
   "source": [
    "- Cross Entropy Loss 사용 / learning rate : 0.0001"
   ]
  },
  {
   "cell_type": "code",
   "execution_count": 10,
   "metadata": {},
   "outputs": [],
   "source": [
    "from keras import optimizers\n",
    "\n",
    "model.compile(loss='categorical_crossentropy',\n",
    "              optimizer=optimizers.RMSprop(learning_rate=1e-4),\n",
    "              metrics=['acc'])"
   ]
  },
  {
   "cell_type": "code",
   "execution_count": null,
   "metadata": {},
   "outputs": [],
   "source": []
  },
  {
   "cell_type": "markdown",
   "metadata": {},
   "source": [
    "- Without Data Augmentation"
   ]
  },
  {
   "cell_type": "code",
   "execution_count": 11,
   "metadata": {},
   "outputs": [
    {
     "name": "stdout",
     "output_type": "stream",
     "text": [
      "Found 2000 images belonging to 2 classes.\n",
      "Found 1000 images belonging to 2 classes.\n"
     ]
    }
   ],
   "source": [
    "# data preprocessing\n",
    "from keras.preprocessing.image import ImageDataGenerator\n",
    "\n",
    "# data augmentation for training dataset\n",
    "train_datagen = ImageDataGenerator(rescale=1./255)\n",
    "test_datagen = ImageDataGenerator(rescale=1./255)\n",
    "\n",
    "train_generator = train_datagen.flow_from_directory(\n",
    "    train_dir,                    # target directory\n",
    "    target_size=(150, 150),       # input size to rescale\n",
    "    batch_size=20,                # (samples * epoch) / steps\n",
    "    class_mode='categorical'\n",
    ")\n",
    "\n",
    "validation_generator = test_datagen.flow_from_directory(\n",
    "    validation_dir,               # target directory\n",
    "    target_size=(150, 150),       # input size to rescale\n",
    "    batch_size=20,                # change batch_size : 20\n",
    "    class_mode='categorical'\n",
    ")"
   ]
  },
  {
   "cell_type": "code",
   "execution_count": 12,
   "metadata": {},
   "outputs": [
    {
     "name": "stdout",
     "output_type": "stream",
     "text": [
      "WARNING:tensorflow:From <ipython-input-12-ea83153c5aa8>:1: Model.fit_generator (from tensorflow.python.keras.engine.training) is deprecated and will be removed in a future version.\n",
      "Instructions for updating:\n",
      "Please use Model.fit, which supports generators.\n",
      "Epoch 1/30\n",
      "100/100 [==============================] - 88s 883ms/step - loss: 0.6927 - acc: 0.5355 - val_loss: 0.6901 - val_acc: 0.5000\n",
      "Epoch 2/30\n",
      "100/100 [==============================] - 67s 665ms/step - loss: 0.6733 - acc: 0.5905 - val_loss: 0.6995 - val_acc: 0.5140\n",
      "Epoch 3/30\n",
      "100/100 [==============================] - 65s 653ms/step - loss: 0.6450 - acc: 0.6365 - val_loss: 0.6404 - val_acc: 0.6340\n",
      "Epoch 4/30\n",
      "100/100 [==============================] - 66s 656ms/step - loss: 0.6103 - acc: 0.6685 - val_loss: 0.6087 - val_acc: 0.6690\n",
      "Epoch 5/30\n",
      "100/100 [==============================] - 76s 761ms/step - loss: 0.5759 - acc: 0.6920 - val_loss: 0.6127 - val_acc: 0.6620\n",
      "Epoch 6/30\n",
      "100/100 [==============================] - 72s 722ms/step - loss: 0.5410 - acc: 0.7190 - val_loss: 0.5930 - val_acc: 0.6810\n",
      "Epoch 7/30\n",
      "100/100 [==============================] - 82s 820ms/step - loss: 0.5253 - acc: 0.7380 - val_loss: 0.6531 - val_acc: 0.6540\n",
      "Epoch 8/30\n",
      "100/100 [==============================] - 83s 826ms/step - loss: 0.5003 - acc: 0.7580 - val_loss: 0.5726 - val_acc: 0.7030\n",
      "Epoch 9/30\n",
      "100/100 [==============================] - 73s 725ms/step - loss: 0.4809 - acc: 0.7655 - val_loss: 0.5935 - val_acc: 0.6860\n",
      "Epoch 10/30\n",
      "100/100 [==============================] - 80s 796ms/step - loss: 0.4667 - acc: 0.7865 - val_loss: 0.6128 - val_acc: 0.6860\n",
      "Epoch 11/30\n",
      "100/100 [==============================] - 76s 756ms/step - loss: 0.4384 - acc: 0.7905 - val_loss: 0.5637 - val_acc: 0.7130\n",
      "Epoch 12/30\n",
      "100/100 [==============================] - 74s 743ms/step - loss: 0.4268 - acc: 0.7960 - val_loss: 0.5452 - val_acc: 0.7220\n",
      "Epoch 13/30\n",
      "100/100 [==============================] - 91s 908ms/step - loss: 0.4015 - acc: 0.8155 - val_loss: 0.5811 - val_acc: 0.7120\n",
      "Epoch 14/30\n",
      "100/100 [==============================] - 77s 769ms/step - loss: 0.3799 - acc: 0.8300 - val_loss: 0.5936 - val_acc: 0.7130\n",
      "Epoch 15/30\n",
      "100/100 [==============================] - 67s 669ms/step - loss: 0.3716 - acc: 0.8295 - val_loss: 0.5493 - val_acc: 0.7340\n",
      "Epoch 16/30\n",
      "100/100 [==============================] - 66s 660ms/step - loss: 0.3636 - acc: 0.8320 - val_loss: 0.5680 - val_acc: 0.7250\n",
      "Epoch 17/30\n",
      "100/100 [==============================] - 67s 667ms/step - loss: 0.3443 - acc: 0.8490 - val_loss: 0.5774 - val_acc: 0.7310\n",
      "Epoch 18/30\n",
      "100/100 [==============================] - 65s 653ms/step - loss: 0.3154 - acc: 0.8690 - val_loss: 0.5752 - val_acc: 0.7360\n",
      "Epoch 19/30\n",
      "100/100 [==============================] - 66s 665ms/step - loss: 0.3133 - acc: 0.8655 - val_loss: 0.5646 - val_acc: 0.7280\n",
      "Epoch 20/30\n",
      "100/100 [==============================] - 67s 672ms/step - loss: 0.2969 - acc: 0.8770 - val_loss: 0.6353 - val_acc: 0.7160\n",
      "Epoch 21/30\n",
      "100/100 [==============================] - 68s 683ms/step - loss: 0.2776 - acc: 0.8840 - val_loss: 0.6182 - val_acc: 0.7300\n",
      "Epoch 22/30\n",
      "100/100 [==============================] - 66s 663ms/step - loss: 0.2702 - acc: 0.8825 - val_loss: 0.5958 - val_acc: 0.7300\n",
      "Epoch 23/30\n",
      "100/100 [==============================] - 66s 662ms/step - loss: 0.2498 - acc: 0.9070 - val_loss: 0.6408 - val_acc: 0.7130\n",
      "Epoch 24/30\n",
      "100/100 [==============================] - 66s 660ms/step - loss: 0.2396 - acc: 0.8995 - val_loss: 0.6229 - val_acc: 0.7390\n",
      "Epoch 25/30\n",
      "100/100 [==============================] - 66s 665ms/step - loss: 0.2254 - acc: 0.9020 - val_loss: 0.6491 - val_acc: 0.7380\n",
      "Epoch 26/30\n",
      "100/100 [==============================] - 67s 670ms/step - loss: 0.2195 - acc: 0.9170 - val_loss: 0.6891 - val_acc: 0.7210\n",
      "Epoch 27/30\n",
      "100/100 [==============================] - 66s 659ms/step - loss: 0.1966 - acc: 0.9210 - val_loss: 0.6378 - val_acc: 0.7400\n",
      "Epoch 28/30\n",
      "100/100 [==============================] - 66s 656ms/step - loss: 0.1825 - acc: 0.9245 - val_loss: 0.6408 - val_acc: 0.7470\n",
      "Epoch 29/30\n",
      "100/100 [==============================] - 66s 660ms/step - loss: 0.1779 - acc: 0.9300 - val_loss: 0.6713 - val_acc: 0.7450\n",
      "Epoch 30/30\n",
      "100/100 [==============================] - 67s 667ms/step - loss: 0.1765 - acc: 0.9280 - val_loss: 0.6408 - val_acc: 0.7450\n"
     ]
    }
   ],
   "source": [
    "history = model.fit_generator(\n",
    "    train_generator,\n",
    "    steps_per_epoch=100,\n",
    "    epochs=30,\n",
    "    validation_data=validation_generator,\n",
    "    validation_steps=50\n",
    ")"
   ]
  },
  {
   "cell_type": "code",
   "execution_count": 14,
   "metadata": {},
   "outputs": [
    {
     "data": {
      "image/png": "[encoded data removed]",
      "text/plain": [
       "<Figure size 432x288 with 1 Axes>"
      ]
     },
     "metadata": {
      "needs_background": "light"
     },
     "output_type": "display_data"
    },
    {
     "data": {
      "image/png": "[encoded data removed]",
      "text/plain": [
       "<Figure size 432x288 with 1 Axes>"
      ]
     },
     "metadata": {
      "needs_background": "light"
     },
     "output_type": "display_data"
    }
   ],
   "source": [
    "import matplotlib.pyplot as plt\n",
    "acc = history.history['acc']\n",
    "val_acc = history.history['val_acc']\n",
    "loss = history.history['loss']\n",
    "val_loss = history.history['val_loss']\n",
    "\n",
    "epochs = range(1, len(acc) + 1)\n",
    "\n",
    "# Drow Graph\n",
    "plt.plot(epochs, acc, 'bo', label='Training_acc')\n",
    "plt.plot(epochs, val_acc, 'r', label='Validation_acc')\n",
    "plt.xlabel('# of epoch')\n",
    "plt.ylabel('Training and validation accuracy')\n",
    "plt.legend() # display label name\n",
    "\n",
    "plt.figure()\n",
    "\n",
    "plt.plot(epochs, loss, 'b--', label='Training_loss')\n",
    "plt.plot(epochs, val_loss, 'r', label='Validation_loss')\n",
    "plt.xlabel('# of epoch')\n",
    "plt.ylabel('loss')\n",
    "plt.title('Training and validation loss')\n",
    "plt.legend() # display label name\n",
    "\n",
    "plt.show()"
   ]
  },
  {
   "cell_type": "code",
   "execution_count": null,
   "metadata": {},
   "outputs": [],
   "source": []
  },
  {
   "cell_type": "markdown",
   "metadata": {},
   "source": [
    "- Data Augmentation 추가하여 학습"
   ]
  },
  {
   "cell_type": "code",
   "execution_count": 18,
   "metadata": {},
   "outputs": [],
   "source": [
    "train_datagen = ImageDataGenerator(\n",
    "    rescale=1./255,\n",
    "    rotation_range=40,\n",
    "    width_shift_range=0.2,\n",
    "    height_shift_range=0.2,\n",
    "    shear_range=0.2,\n",
    "    zoom_range=0.2,\n",
    "    horizontal_flip=True,\n",
    "    fill_mode='nearest'\n",
    ")"
   ]
  },
  {
   "cell_type": "code",
   "execution_count": 19,
   "metadata": {},
   "outputs": [
    {
     "name": "stdout",
     "output_type": "stream",
     "text": [
      "Found 2000 images belonging to 2 classes.\n",
      "Found 1000 images belonging to 2 classes.\n"
     ]
    }
   ],
   "source": [
    "# data augmentation for training dataset\n",
    "# train_datagen = ImageDataGenerator(rescale=1./255)\n",
    "test_datagen = ImageDataGenerator(rescale=1./255)\n",
    "\n",
    "train_generator = train_datagen.flow_from_directory(\n",
    "    train_dir,                    # target directory\n",
    "    target_size=(150, 150),       # input size to rescale\n",
    "    batch_size=20,                # (samples * epoch) / steps\n",
    "    class_mode='categorical'\n",
    ")\n",
    "\n",
    "validation_generator = test_datagen.flow_from_directory(\n",
    "    validation_dir,               # target directory\n",
    "    target_size=(150, 150),       # input size to rescale\n",
    "    batch_size=20,                # change batch_size : 20\n",
    "    class_mode='categorical'\n",
    ")"
   ]
  },
  {
   "cell_type": "code",
   "execution_count": 20,
   "metadata": {},
   "outputs": [
    {
     "name": "stdout",
     "output_type": "stream",
     "text": [
      "Epoch 1/30\n",
      "100/100 [==============================] - 78s 780ms/step - loss: 0.6529 - acc: 0.6825 - val_loss: 0.5933 - val_acc: 0.6950\n",
      "Epoch 2/30\n",
      "100/100 [==============================] - 75s 753ms/step - loss: 0.5910 - acc: 0.6870 - val_loss: 0.5649 - val_acc: 0.7000\n",
      "Epoch 3/30\n",
      "100/100 [==============================] - 86s 860ms/step - loss: 0.5965 - acc: 0.6880 - val_loss: 0.5153 - val_acc: 0.7480\n",
      "Epoch 4/30\n",
      "100/100 [==============================] - 77s 768ms/step - loss: 0.5659 - acc: 0.7075 - val_loss: 0.5589 - val_acc: 0.7180\n",
      "Epoch 5/30\n",
      "100/100 [==============================] - 71s 713ms/step - loss: 0.5626 - acc: 0.7170 - val_loss: 0.4828 - val_acc: 0.7710\n",
      "Epoch 6/30\n",
      "100/100 [==============================] - 82s 820ms/step - loss: 0.5478 - acc: 0.7185 - val_loss: 0.5131 - val_acc: 0.7410\n",
      "Epoch 7/30\n",
      "100/100 [==============================] - 83s 834ms/step - loss: 0.5396 - acc: 0.7295 - val_loss: 0.4969 - val_acc: 0.7530\n",
      "Epoch 8/30\n",
      "100/100 [==============================] - 75s 752ms/step - loss: 0.5328 - acc: 0.7275 - val_loss: 0.4851 - val_acc: 0.7510\n",
      "Epoch 9/30\n",
      "100/100 [==============================] - 73s 726ms/step - loss: 0.5581 - acc: 0.7200 - val_loss: 0.4796 - val_acc: 0.7570\n",
      "Epoch 10/30\n",
      "100/100 [==============================] - 73s 728ms/step - loss: 0.5270 - acc: 0.7305 - val_loss: 0.5010 - val_acc: 0.7570\n",
      "Epoch 11/30\n",
      "100/100 [==============================] - 79s 791ms/step - loss: 0.5377 - acc: 0.7330 - val_loss: 0.4843 - val_acc: 0.7590\n",
      "Epoch 12/30\n",
      "100/100 [==============================] - 87s 870ms/step - loss: 0.5252 - acc: 0.7330 - val_loss: 0.5349 - val_acc: 0.7260\n",
      "Epoch 13/30\n",
      "100/100 [==============================] - 90s 903ms/step - loss: 0.5236 - acc: 0.7330 - val_loss: 0.4820 - val_acc: 0.7640\n",
      "Epoch 14/30\n",
      "100/100 [==============================] - 84s 839ms/step - loss: 0.5288 - acc: 0.7255 - val_loss: 0.4489 - val_acc: 0.7850\n",
      "Epoch 15/30\n",
      "100/100 [==============================] - 80s 804ms/step - loss: 0.5319 - acc: 0.7330 - val_loss: 0.4673 - val_acc: 0.7700\n",
      "Epoch 16/30\n",
      "100/100 [==============================] - 81s 809ms/step - loss: 0.5060 - acc: 0.7510 - val_loss: 0.5314 - val_acc: 0.7520\n",
      "Epoch 17/30\n",
      "100/100 [==============================] - 86s 857ms/step - loss: 0.5149 - acc: 0.7430 - val_loss: 0.5221 - val_acc: 0.7480\n",
      "Epoch 18/30\n",
      "100/100 [==============================] - 79s 787ms/step - loss: 0.5084 - acc: 0.7480 - val_loss: 0.5756 - val_acc: 0.7330\n",
      "Epoch 19/30\n",
      "100/100 [==============================] - 96s 958ms/step - loss: 0.5267 - acc: 0.7355 - val_loss: 0.5162 - val_acc: 0.7460\n",
      "Epoch 20/30\n",
      "100/100 [==============================] - 86s 861ms/step - loss: 0.5045 - acc: 0.7525 - val_loss: 0.4405 - val_acc: 0.7900\n",
      "Epoch 21/30\n",
      "100/100 [==============================] - 85s 849ms/step - loss: 0.5058 - acc: 0.7550 - val_loss: 0.5673 - val_acc: 0.7330\n",
      "Epoch 22/30\n",
      "100/100 [==============================] - 77s 771ms/step - loss: 0.4842 - acc: 0.7705 - val_loss: 0.4926 - val_acc: 0.7640\n",
      "Epoch 23/30\n",
      "100/100 [==============================] - 80s 799ms/step - loss: 0.4785 - acc: 0.7665 - val_loss: 0.4435 - val_acc: 0.7890\n",
      "Epoch 24/30\n",
      "100/100 [==============================] - 88s 876ms/step - loss: 0.5058 - acc: 0.7480 - val_loss: 0.4537 - val_acc: 0.7750\n",
      "Epoch 25/30\n",
      "100/100 [==============================] - 71s 711ms/step - loss: 0.4902 - acc: 0.7625 - val_loss: 0.4575 - val_acc: 0.7820\n",
      "Epoch 26/30\n",
      "100/100 [==============================] - 74s 736ms/step - loss: 0.4838 - acc: 0.7725 - val_loss: 0.4570 - val_acc: 0.7750\n",
      "Epoch 27/30\n",
      "100/100 [==============================] - 76s 757ms/step - loss: 0.4959 - acc: 0.7545 - val_loss: 0.5415 - val_acc: 0.7270\n",
      "Epoch 28/30\n",
      "100/100 [==============================] - 71s 708ms/step - loss: 0.4841 - acc: 0.7745 - val_loss: 0.5056 - val_acc: 0.7560\n",
      "Epoch 29/30\n",
      "100/100 [==============================] - 72s 717ms/step - loss: 0.4890 - acc: 0.7615 - val_loss: 0.4813 - val_acc: 0.7630\n",
      "Epoch 30/30\n",
      "100/100 [==============================] - 71s 707ms/step - loss: 0.4745 - acc: 0.7670 - val_loss: 0.4982 - val_acc: 0.7590\n"
     ]
    }
   ],
   "source": [
    "history = model.fit_generator(\n",
    "    train_generator,\n",
    "    steps_per_epoch=100,\n",
    "    epochs=30,\n",
    "    validation_data=validation_generator,\n",
    "    validation_steps=50\n",
    ")"
   ]
  },
  {
   "cell_type": "code",
   "execution_count": 21,
   "metadata": {},
   "outputs": [
    {
     "data": {
      "image/png": "[encoded data removed]",
      "text/plain": [
       "<Figure size 432x288 with 1 Axes>"
      ]
     },
     "metadata": {
      "needs_background": "light"
     },
     "output_type": "display_data"
    },
    {
     "data": {
      "image/png": "[encoded data removed]",
      "text/plain": [
       "<Figure size 432x288 with 1 Axes>"
      ]
     },
     "metadata": {
      "needs_background": "light"
     },
     "output_type": "display_data"
    }
   ],
   "source": [
    "acc = history.history['acc']\n",
    "val_acc = history.history['val_acc']\n",
    "loss = history.history['loss']\n",
    "val_loss = history.history['val_loss']\n",
    "\n",
    "epochs = range(1, len(acc) + 1)\n",
    "\n",
    "# Drow Graph\n",
    "plt.plot(epochs, acc, 'bo', label='Training_acc')\n",
    "plt.plot(epochs, val_acc, 'r', label='Validation_acc')\n",
    "plt.xlabel('# of epoch')\n",
    "plt.ylabel('Training and validation accuracy')\n",
    "plt.legend() # display label name\n",
    "\n",
    "plt.figure()\n",
    "\n",
    "plt.plot(epochs, loss, 'b--', label='Training_loss')\n",
    "plt.plot(epochs, val_loss, 'r', label='Validation_loss')\n",
    "plt.xlabel('# of epoch')\n",
    "plt.ylabel('loss')\n",
    "plt.title('Training and validation loss')\n",
    "plt.legend() # display label name\n",
    "\n",
    "plt.show()"
   ]
  },
  {
   "cell_type": "code",
   "execution_count": null,
   "metadata": {},
   "outputs": [],
   "source": []
  },
  {
   "cell_type": "markdown",
   "metadata": {},
   "source": [
    "- Batch Normalization 추가하여 학습"
   ]
  },
  {
   "cell_type": "code",
   "execution_count": 22,
   "metadata": {},
   "outputs": [
    {
     "name": "stdout",
     "output_type": "stream",
     "text": [
      "Model: \"functional_5\"\n",
      "_________________________________________________________________\n",
      "Layer (type)                 Output Shape              Param #   \n",
      "=================================================================\n",
      "input_3 (InputLayer)         [(None, 150, 150, 3)]     0         \n",
      "_________________________________________________________________\n",
      "conv2d_8 (Conv2D)            (None, 148, 148, 32)      896       \n",
      "_________________________________________________________________\n",
      "batch_normalization (BatchNo (None, 148, 148, 32)      128       \n",
      "_________________________________________________________________\n",
      "max_pooling2d_8 (MaxPooling2 (None, 74, 74, 32)        0         \n",
      "_________________________________________________________________\n",
      "conv2d_9 (Conv2D)            (None, 72, 72, 64)        18496     \n",
      "_________________________________________________________________\n",
      "batch_normalization_1 (Batch (None, 72, 72, 64)        256       \n",
      "_________________________________________________________________\n",
      "max_pooling2d_9 (MaxPooling2 (None, 36, 36, 64)        0         \n",
      "_________________________________________________________________\n",
      "conv2d_10 (Conv2D)           (None, 34, 34, 128)       73856     \n",
      "_________________________________________________________________\n",
      "batch_normalization_2 (Batch (None, 34, 34, 128)       512       \n",
      "_________________________________________________________________\n",
      "max_pooling2d_10 (MaxPooling (None, 17, 17, 128)       0         \n",
      "_________________________________________________________________\n",
      "conv2d_11 (Conv2D)           (None, 15, 15, 128)       147584    \n",
      "_________________________________________________________________\n",
      "batch_normalization_3 (Batch (None, 15, 15, 128)       512       \n",
      "_________________________________________________________________\n",
      "max_pooling2d_11 (MaxPooling (None, 7, 7, 128)         0         \n",
      "_________________________________________________________________\n",
      "flatten_2 (Flatten)          (None, 6272)              0         \n",
      "_________________________________________________________________\n",
      "dropout_2 (Dropout)          (None, 6272)              0         \n",
      "_________________________________________________________________\n",
      "dense_4 (Dense)              (None, 512)               3211776   \n",
      "_________________________________________________________________\n",
      "dense_5 (Dense)              (None, 2)                 1026      \n",
      "=================================================================\n",
      "Total params: 3,455,042\n",
      "Trainable params: 3,454,338\n",
      "Non-trainable params: 704\n",
      "_________________________________________________________________\n"
     ]
    }
   ],
   "source": [
    "inputs = layers.Input(shape=(150, 150, 3))\n",
    "\n",
    "# representation layers\n",
    "x = layers.Conv2D(32, (3, 3), activation='relu')(inputs)\n",
    "x = layers.BatchNormalization()(x)\n",
    "x = layers.MaxPooling2D((2, 2))(x)\n",
    "x = layers.Conv2D(64, (3, 3), activation='relu')(x)\n",
    "x = layers.BatchNormalization()(x)\n",
    "x = layers.MaxPooling2D((2, 2))(x)\n",
    "x = layers.Conv2D(128, (3, 3), activation='relu')(x)\n",
    "x = layers.BatchNormalization()(x)\n",
    "x = layers.MaxPooling2D((2, 2))(x)\n",
    "x = layers.Conv2D(128, (3, 3), activation='relu')(x)\n",
    "x = layers.BatchNormalization()(x)\n",
    "x = layers.MaxPooling2D((2, 2))(x)\n",
    "\n",
    "# fully connected layers\n",
    "x = layers.Flatten()(x)\n",
    "x = layers.Dropout(0.5)(x) # add a dropout layer\n",
    "x = layers.Dense(512, activation='relu')(x)\n",
    "x = layers.Dense(2, activation='softmax')(x)\n",
    "\n",
    "model = keras.Model(inputs, x)\n",
    "model.summary()"
   ]
  },
  {
   "cell_type": "code",
   "execution_count": 25,
   "metadata": {},
   "outputs": [],
   "source": [
    "model.compile(loss='categorical_crossentropy',\n",
    "              optimizer=optimizers.RMSprop(learning_rate=1e-4),\n",
    "              metrics=['acc'])"
   ]
  },
  {
   "cell_type": "code",
   "execution_count": 26,
   "metadata": {},
   "outputs": [
    {
     "name": "stdout",
     "output_type": "stream",
     "text": [
      "Found 2000 images belonging to 2 classes.\n",
      "Found 1000 images belonging to 2 classes.\n"
     ]
    }
   ],
   "source": [
    "train_datagen = ImageDataGenerator(\n",
    "    rescale=1./255,\n",
    "    rotation_range=40,\n",
    "    width_shift_range=0.2,\n",
    "    height_shift_range=0.2,\n",
    "    shear_range=0.2,\n",
    "    zoom_range=0.2,\n",
    "    horizontal_flip=True,\n",
    "    fill_mode='nearest'\n",
    ")\n",
    "test_datagen = ImageDataGenerator(rescale=1./255)\n",
    "\n",
    "train_generator = train_datagen.flow_from_directory(\n",
    "    train_dir,                    # target directory\n",
    "    target_size=(150, 150),       # input size to rescale\n",
    "    batch_size=20,                # (samples * epoch) / steps\n",
    "    class_mode='categorical'\n",
    ")\n",
    "\n",
    "validation_generator = test_datagen.flow_from_directory(\n",
    "    validation_dir,               # target directory\n",
    "    target_size=(150, 150),       # input size to rescale\n",
    "    batch_size=20,                # change batch_size : 20\n",
    "    class_mode='categorical'\n",
    ")"
   ]
  },
  {
   "cell_type": "code",
   "execution_count": 27,
   "metadata": {},
   "outputs": [
    {
     "name": "stdout",
     "output_type": "stream",
     "text": [
      "Epoch 1/30\n",
      "100/100 [==============================] - 97s 970ms/step - loss: 1.3670 - acc: 0.5505 - val_loss: 0.8335 - val_acc: 0.5000\n",
      "Epoch 2/30\n",
      "100/100 [==============================] - 93s 935ms/step - loss: 1.0282 - acc: 0.6050 - val_loss: 3.5024 - val_acc: 0.5000\n",
      "Epoch 3/30\n",
      "100/100 [==============================] - 92s 917ms/step - loss: 0.8967 - acc: 0.6275 - val_loss: 2.5002 - val_acc: 0.5000\n",
      "Epoch 4/30\n",
      "100/100 [==============================] - 104s 1s/step - loss: 0.8211 - acc: 0.6220 - val_loss: 1.1743 - val_acc: 0.5600\n",
      "Epoch 5/30\n",
      "100/100 [==============================] - 118s 1s/step - loss: 0.7182 - acc: 0.6450 - val_loss: 0.6032 - val_acc: 0.6790\n",
      "Epoch 6/30\n",
      "100/100 [==============================] - 131s 1s/step - loss: 0.6884 - acc: 0.6605 - val_loss: 0.5622 - val_acc: 0.7030\n",
      "Epoch 7/30\n",
      "100/100 [==============================] - 116s 1s/step - loss: 0.6558 - acc: 0.6710 - val_loss: 0.5610 - val_acc: 0.7000\n",
      "Epoch 8/30\n",
      "100/100 [==============================] - 110s 1s/step - loss: 0.6438 - acc: 0.6795 - val_loss: 0.5707 - val_acc: 0.6950\n",
      "Epoch 9/30\n",
      "100/100 [==============================] - 101s 1s/step - loss: 0.6227 - acc: 0.6890 - val_loss: 0.5671 - val_acc: 0.6990\n",
      "Epoch 10/30\n",
      "100/100 [==============================] - 97s 972ms/step - loss: 0.6219 - acc: 0.7055 - val_loss: 0.5765 - val_acc: 0.7070\n",
      "Epoch 11/30\n",
      "100/100 [==============================] - 102s 1s/step - loss: 0.6041 - acc: 0.6975 - val_loss: 0.6061 - val_acc: 0.6740\n",
      "Epoch 12/30\n",
      "100/100 [==============================] - 92s 924ms/step - loss: 0.5986 - acc: 0.6935 - val_loss: 0.6086 - val_acc: 0.6670\n",
      "Epoch 13/30\n",
      "100/100 [==============================] - 92s 916ms/step - loss: 0.5822 - acc: 0.7170 - val_loss: 0.5816 - val_acc: 0.6820\n",
      "Epoch 14/30\n",
      "100/100 [==============================] - 99s 991ms/step - loss: 0.5668 - acc: 0.7170 - val_loss: 0.6276 - val_acc: 0.6510\n",
      "Epoch 15/30\n",
      "100/100 [==============================] - 105s 1s/step - loss: 0.5824 - acc: 0.7085 - val_loss: 0.5549 - val_acc: 0.6940\n",
      "Epoch 16/30\n",
      "100/100 [==============================] - 111s 1s/step - loss: 0.5872 - acc: 0.6945 - val_loss: 0.5661 - val_acc: 0.6990\n",
      "Epoch 17/30\n",
      "100/100 [==============================] - 104s 1s/step - loss: 0.5667 - acc: 0.7210 - val_loss: 0.5806 - val_acc: 0.6800\n",
      "Epoch 18/30\n",
      "100/100 [==============================] - 96s 959ms/step - loss: 0.5365 - acc: 0.7300 - val_loss: 0.5341 - val_acc: 0.7260\n",
      "Epoch 19/30\n",
      "100/100 [==============================] - 99s 986ms/step - loss: 0.5688 - acc: 0.7230 - val_loss: 0.5387 - val_acc: 0.7410\n",
      "Epoch 20/30\n",
      "100/100 [==============================] - 94s 936ms/step - loss: 0.5525 - acc: 0.7255 - val_loss: 0.6090 - val_acc: 0.6910\n",
      "Epoch 21/30\n",
      "100/100 [==============================] - 98s 976ms/step - loss: 0.5361 - acc: 0.7330 - val_loss: 0.5188 - val_acc: 0.7540\n",
      "Epoch 22/30\n",
      "100/100 [==============================] - 104s 1s/step - loss: 0.5510 - acc: 0.7310 - val_loss: 0.5126 - val_acc: 0.7450\n",
      "Epoch 23/30\n",
      "100/100 [==============================] - 108s 1s/step - loss: 0.5294 - acc: 0.7490 - val_loss: 0.5786 - val_acc: 0.7020\n",
      "Epoch 24/30\n",
      "100/100 [==============================] - 104s 1s/step - loss: 0.5431 - acc: 0.7300 - val_loss: 0.5565 - val_acc: 0.7230\n",
      "Epoch 25/30\n",
      "100/100 [==============================] - 101s 1s/step - loss: 0.5278 - acc: 0.7350 - val_loss: 0.4816 - val_acc: 0.7760\n",
      "Epoch 26/30\n",
      "100/100 [==============================] - 96s 957ms/step - loss: 0.5530 - acc: 0.7295 - val_loss: 0.5327 - val_acc: 0.7210\n",
      "Epoch 27/30\n",
      "100/100 [==============================] - 100s 1s/step - loss: 0.5220 - acc: 0.7515 - val_loss: 0.5630 - val_acc: 0.7160\n",
      "Epoch 28/30\n",
      "100/100 [==============================] - 100s 1000ms/step - loss: 0.5314 - acc: 0.7485 - val_loss: 0.5053 - val_acc: 0.7470\n",
      "Epoch 29/30\n",
      "100/100 [==============================] - 96s 963ms/step - loss: 0.5442 - acc: 0.7390 - val_loss: 0.4947 - val_acc: 0.7600\n",
      "Epoch 30/30\n",
      "100/100 [==============================] - 101s 1s/step - loss: 0.5097 - acc: 0.7495 - val_loss: 0.5323 - val_acc: 0.7430\n"
     ]
    }
   ],
   "source": [
    "history = model.fit_generator(\n",
    "    train_generator,\n",
    "    steps_per_epoch=100,\n",
    "    epochs=30,\n",
    "    validation_data=validation_generator,\n",
    "    validation_steps=50\n",
    ")"
   ]
  },
  {
   "cell_type": "code",
   "execution_count": 28,
   "metadata": {},
   "outputs": [
    {
     "data": {
      "image/png": "[encoded data removed]",
      "text/plain": [
       "<Figure size 432x288 with 1 Axes>"
      ]
     },
     "metadata": {
      "needs_background": "light"
     },
     "output_type": "display_data"
    },
    {
     "data": {
      "image/png": "[encoded data removed]",
      "text/plain": [
       "<Figure size 432x288 with 1 Axes>"
      ]
     },
     "metadata": {
      "needs_background": "light"
     },
     "output_type": "display_data"
    }
   ],
   "source": [
    "acc = history.history['acc']\n",
    "val_acc = history.history['val_acc']\n",
    "loss = history.history['loss']\n",
    "val_loss = history.history['val_loss']\n",
    "\n",
    "epochs = range(1, len(acc) + 1)\n",
    "\n",
    "# Drow Graph\n",
    "plt.plot(epochs, acc, 'bo', label='Training_acc')\n",
    "plt.plot(epochs, val_acc, 'r', label='Validation_acc')\n",
    "plt.xlabel('# of epoch')\n",
    "plt.ylabel('Training and validation accuracy')\n",
    "plt.legend() # display label name\n",
    "\n",
    "plt.figure()\n",
    "\n",
    "plt.plot(epochs, loss, 'b--', label='Training_loss')\n",
    "plt.plot(epochs, val_loss, 'r', label='Validation_loss')\n",
    "plt.xlabel('# of epoch')\n",
    "plt.ylabel('loss')\n",
    "plt.title('Training and validation loss')\n",
    "plt.legend() # display label name\n",
    "\n",
    "plt.show()"
   ]
  },
  {
   "cell_type": "code",
   "execution_count": null,
   "metadata": {},
   "outputs": [],
   "source": []
  }
 ],
 "metadata": {
  "kernelspec": {
   "display_name": "Python 3",
   "language": "python",
   "name": "python3"
  },
  "language_info": {
   "codemirror_mode": {
    "name": "ipython",
    "version": 3
   },
   "file_extension": ".py",
   "mimetype": "text/x-python",
   "name": "python",
   "nbconvert_exporter": "python",
   "pygments_lexer": "ipython3",
   "version": "3.8.5"
  }
 },
 "nbformat": 4,
 "nbformat_minor": 4
}
